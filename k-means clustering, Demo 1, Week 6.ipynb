{
 "cells": [
  {
   "cell_type": "code",
   "execution_count": 1,
   "id": "a834f2bf",
   "metadata": {},
   "outputs": [],
   "source": [
    "a = 1"
   ]
  },
  {
   "cell_type": "code",
   "execution_count": 2,
   "id": "13cc4e35",
   "metadata": {},
   "outputs": [
    {
     "data": {
      "text/plain": [
       "1"
      ]
     },
     "execution_count": 2,
     "metadata": {},
     "output_type": "execute_result"
    }
   ],
   "source": [
    "a"
   ]
  },
  {
   "cell_type": "code",
   "execution_count": 3,
   "id": "8541e72c",
   "metadata": {},
   "outputs": [],
   "source": [
    "import pandas as pd"
   ]
  },
  {
   "cell_type": "code",
   "execution_count": 5,
   "id": "fff34290",
   "metadata": {},
   "outputs": [],
   "source": [
    "abalone = pd.read_csv('abalone.data',header = None)"
   ]
  },
  {
   "cell_type": "code",
   "execution_count": 6,
   "id": "dee442c3",
   "metadata": {},
   "outputs": [
    {
     "data": {
      "text/html": [
       "<div>\n",
       "<style scoped>\n",
       "    .dataframe tbody tr th:only-of-type {\n",
       "        vertical-align: middle;\n",
       "    }\n",
       "\n",
       "    .dataframe tbody tr th {\n",
       "        vertical-align: top;\n",
       "    }\n",
       "\n",
       "    .dataframe thead th {\n",
       "        text-align: right;\n",
       "    }\n",
       "</style>\n",
       "<table border=\"1\" class=\"dataframe\">\n",
       "  <thead>\n",
       "    <tr style=\"text-align: right;\">\n",
       "      <th></th>\n",
       "      <th>0</th>\n",
       "      <th>1</th>\n",
       "      <th>2</th>\n",
       "      <th>3</th>\n",
       "      <th>4</th>\n",
       "      <th>5</th>\n",
       "      <th>6</th>\n",
       "      <th>7</th>\n",
       "      <th>8</th>\n",
       "    </tr>\n",
       "  </thead>\n",
       "  <tbody>\n",
       "    <tr>\n",
       "      <th>0</th>\n",
       "      <td>M</td>\n",
       "      <td>0.455</td>\n",
       "      <td>0.365</td>\n",
       "      <td>0.095</td>\n",
       "      <td>0.5140</td>\n",
       "      <td>0.2245</td>\n",
       "      <td>0.1010</td>\n",
       "      <td>0.150</td>\n",
       "      <td>15</td>\n",
       "    </tr>\n",
       "    <tr>\n",
       "      <th>1</th>\n",
       "      <td>M</td>\n",
       "      <td>0.350</td>\n",
       "      <td>0.265</td>\n",
       "      <td>0.090</td>\n",
       "      <td>0.2255</td>\n",
       "      <td>0.0995</td>\n",
       "      <td>0.0485</td>\n",
       "      <td>0.070</td>\n",
       "      <td>7</td>\n",
       "    </tr>\n",
       "    <tr>\n",
       "      <th>2</th>\n",
       "      <td>F</td>\n",
       "      <td>0.530</td>\n",
       "      <td>0.420</td>\n",
       "      <td>0.135</td>\n",
       "      <td>0.6770</td>\n",
       "      <td>0.2565</td>\n",
       "      <td>0.1415</td>\n",
       "      <td>0.210</td>\n",
       "      <td>9</td>\n",
       "    </tr>\n",
       "    <tr>\n",
       "      <th>3</th>\n",
       "      <td>M</td>\n",
       "      <td>0.440</td>\n",
       "      <td>0.365</td>\n",
       "      <td>0.125</td>\n",
       "      <td>0.5160</td>\n",
       "      <td>0.2155</td>\n",
       "      <td>0.1140</td>\n",
       "      <td>0.155</td>\n",
       "      <td>10</td>\n",
       "    </tr>\n",
       "    <tr>\n",
       "      <th>4</th>\n",
       "      <td>I</td>\n",
       "      <td>0.330</td>\n",
       "      <td>0.255</td>\n",
       "      <td>0.080</td>\n",
       "      <td>0.2050</td>\n",
       "      <td>0.0895</td>\n",
       "      <td>0.0395</td>\n",
       "      <td>0.055</td>\n",
       "      <td>7</td>\n",
       "    </tr>\n",
       "  </tbody>\n",
       "</table>\n",
       "</div>"
      ],
      "text/plain": [
       "   0      1      2      3       4       5       6      7   8\n",
       "0  M  0.455  0.365  0.095  0.5140  0.2245  0.1010  0.150  15\n",
       "1  M  0.350  0.265  0.090  0.2255  0.0995  0.0485  0.070   7\n",
       "2  F  0.530  0.420  0.135  0.6770  0.2565  0.1415  0.210   9\n",
       "3  M  0.440  0.365  0.125  0.5160  0.2155  0.1140  0.155  10\n",
       "4  I  0.330  0.255  0.080  0.2050  0.0895  0.0395  0.055   7"
      ]
     },
     "execution_count": 6,
     "metadata": {},
     "output_type": "execute_result"
    }
   ],
   "source": [
    "abalone.head()"
   ]
  },
  {
   "cell_type": "code",
   "execution_count": 7,
   "id": "c72bb038",
   "metadata": {},
   "outputs": [
    {
     "data": {
      "text/html": [
       "<div>\n",
       "<style scoped>\n",
       "    .dataframe tbody tr th:only-of-type {\n",
       "        vertical-align: middle;\n",
       "    }\n",
       "\n",
       "    .dataframe tbody tr th {\n",
       "        vertical-align: top;\n",
       "    }\n",
       "\n",
       "    .dataframe thead th {\n",
       "        text-align: right;\n",
       "    }\n",
       "</style>\n",
       "<table border=\"1\" class=\"dataframe\">\n",
       "  <thead>\n",
       "    <tr style=\"text-align: right;\">\n",
       "      <th></th>\n",
       "      <th>0</th>\n",
       "      <th>1</th>\n",
       "      <th>2</th>\n",
       "      <th>3</th>\n",
       "      <th>4</th>\n",
       "      <th>5</th>\n",
       "      <th>6</th>\n",
       "      <th>7</th>\n",
       "      <th>8</th>\n",
       "    </tr>\n",
       "  </thead>\n",
       "  <tbody>\n",
       "    <tr>\n",
       "      <th>4172</th>\n",
       "      <td>F</td>\n",
       "      <td>0.565</td>\n",
       "      <td>0.450</td>\n",
       "      <td>0.165</td>\n",
       "      <td>0.8870</td>\n",
       "      <td>0.3700</td>\n",
       "      <td>0.2390</td>\n",
       "      <td>0.2490</td>\n",
       "      <td>11</td>\n",
       "    </tr>\n",
       "    <tr>\n",
       "      <th>4173</th>\n",
       "      <td>M</td>\n",
       "      <td>0.590</td>\n",
       "      <td>0.440</td>\n",
       "      <td>0.135</td>\n",
       "      <td>0.9660</td>\n",
       "      <td>0.4390</td>\n",
       "      <td>0.2145</td>\n",
       "      <td>0.2605</td>\n",
       "      <td>10</td>\n",
       "    </tr>\n",
       "    <tr>\n",
       "      <th>4174</th>\n",
       "      <td>M</td>\n",
       "      <td>0.600</td>\n",
       "      <td>0.475</td>\n",
       "      <td>0.205</td>\n",
       "      <td>1.1760</td>\n",
       "      <td>0.5255</td>\n",
       "      <td>0.2875</td>\n",
       "      <td>0.3080</td>\n",
       "      <td>9</td>\n",
       "    </tr>\n",
       "    <tr>\n",
       "      <th>4175</th>\n",
       "      <td>F</td>\n",
       "      <td>0.625</td>\n",
       "      <td>0.485</td>\n",
       "      <td>0.150</td>\n",
       "      <td>1.0945</td>\n",
       "      <td>0.5310</td>\n",
       "      <td>0.2610</td>\n",
       "      <td>0.2960</td>\n",
       "      <td>10</td>\n",
       "    </tr>\n",
       "    <tr>\n",
       "      <th>4176</th>\n",
       "      <td>M</td>\n",
       "      <td>0.710</td>\n",
       "      <td>0.555</td>\n",
       "      <td>0.195</td>\n",
       "      <td>1.9485</td>\n",
       "      <td>0.9455</td>\n",
       "      <td>0.3765</td>\n",
       "      <td>0.4950</td>\n",
       "      <td>12</td>\n",
       "    </tr>\n",
       "  </tbody>\n",
       "</table>\n",
       "</div>"
      ],
      "text/plain": [
       "      0      1      2      3       4       5       6       7   8\n",
       "4172  F  0.565  0.450  0.165  0.8870  0.3700  0.2390  0.2490  11\n",
       "4173  M  0.590  0.440  0.135  0.9660  0.4390  0.2145  0.2605  10\n",
       "4174  M  0.600  0.475  0.205  1.1760  0.5255  0.2875  0.3080   9\n",
       "4175  F  0.625  0.485  0.150  1.0945  0.5310  0.2610  0.2960  10\n",
       "4176  M  0.710  0.555  0.195  1.9485  0.9455  0.3765  0.4950  12"
      ]
     },
     "execution_count": 7,
     "metadata": {},
     "output_type": "execute_result"
    }
   ],
   "source": [
    "abalone.tail()"
   ]
  },
  {
   "cell_type": "code",
   "execution_count": 8,
   "id": "84233484",
   "metadata": {},
   "outputs": [
    {
     "data": {
      "text/plain": [
       "Int64Index([0, 1, 2, 3, 4, 5, 6, 7, 8], dtype='int64')"
      ]
     },
     "execution_count": 8,
     "metadata": {},
     "output_type": "execute_result"
    }
   ],
   "source": [
    "abalone.columns"
   ]
  },
  {
   "cell_type": "code",
   "execution_count": 9,
   "id": "a5e2d028",
   "metadata": {},
   "outputs": [
    {
     "ename": "AttributeError",
     "evalue": "'DataFrame' object has no attribute 'rows'",
     "output_type": "error",
     "traceback": [
      "\u001b[1;31m---------------------------------------------------------------------------\u001b[0m",
      "\u001b[1;31mAttributeError\u001b[0m                            Traceback (most recent call last)",
      "\u001b[1;32mC:\\Users\\VISHAL~1\\AppData\\Local\\Temp/ipykernel_40412/346635451.py\u001b[0m in \u001b[0;36m<module>\u001b[1;34m\u001b[0m\n\u001b[1;32m----> 1\u001b[1;33m \u001b[0mabalone\u001b[0m\u001b[1;33m.\u001b[0m\u001b[0mrows\u001b[0m\u001b[1;33m\u001b[0m\u001b[1;33m\u001b[0m\u001b[0m\n\u001b[0m",
      "\u001b[1;32mC:\\ProgramData\\Anaconda3\\lib\\site-packages\\pandas\\core\\generic.py\u001b[0m in \u001b[0;36m__getattr__\u001b[1;34m(self, name)\u001b[0m\n\u001b[0;32m   5485\u001b[0m         ):\n\u001b[0;32m   5486\u001b[0m             \u001b[1;32mreturn\u001b[0m \u001b[0mself\u001b[0m\u001b[1;33m[\u001b[0m\u001b[0mname\u001b[0m\u001b[1;33m]\u001b[0m\u001b[1;33m\u001b[0m\u001b[1;33m\u001b[0m\u001b[0m\n\u001b[1;32m-> 5487\u001b[1;33m         \u001b[1;32mreturn\u001b[0m \u001b[0mobject\u001b[0m\u001b[1;33m.\u001b[0m\u001b[0m__getattribute__\u001b[0m\u001b[1;33m(\u001b[0m\u001b[0mself\u001b[0m\u001b[1;33m,\u001b[0m \u001b[0mname\u001b[0m\u001b[1;33m)\u001b[0m\u001b[1;33m\u001b[0m\u001b[1;33m\u001b[0m\u001b[0m\n\u001b[0m\u001b[0;32m   5488\u001b[0m \u001b[1;33m\u001b[0m\u001b[0m\n\u001b[0;32m   5489\u001b[0m     \u001b[1;32mdef\u001b[0m \u001b[0m__setattr__\u001b[0m\u001b[1;33m(\u001b[0m\u001b[0mself\u001b[0m\u001b[1;33m,\u001b[0m \u001b[0mname\u001b[0m\u001b[1;33m:\u001b[0m \u001b[0mstr\u001b[0m\u001b[1;33m,\u001b[0m \u001b[0mvalue\u001b[0m\u001b[1;33m)\u001b[0m \u001b[1;33m->\u001b[0m \u001b[1;32mNone\u001b[0m\u001b[1;33m:\u001b[0m\u001b[1;33m\u001b[0m\u001b[1;33m\u001b[0m\u001b[0m\n",
      "\u001b[1;31mAttributeError\u001b[0m: 'DataFrame' object has no attribute 'rows'"
     ]
    }
   ],
   "source": [
    "abalone.rows"
   ]
  },
  {
   "cell_type": "code",
   "execution_count": 10,
   "id": "d8e2b5ca",
   "metadata": {},
   "outputs": [
    {
     "data": {
      "text/html": [
       "<div>\n",
       "<style scoped>\n",
       "    .dataframe tbody tr th:only-of-type {\n",
       "        vertical-align: middle;\n",
       "    }\n",
       "\n",
       "    .dataframe tbody tr th {\n",
       "        vertical-align: top;\n",
       "    }\n",
       "\n",
       "    .dataframe thead th {\n",
       "        text-align: right;\n",
       "    }\n",
       "</style>\n",
       "<table border=\"1\" class=\"dataframe\">\n",
       "  <thead>\n",
       "    <tr style=\"text-align: right;\">\n",
       "      <th></th>\n",
       "      <th>0</th>\n",
       "      <th>1</th>\n",
       "      <th>2</th>\n",
       "      <th>3</th>\n",
       "      <th>4</th>\n",
       "      <th>5</th>\n",
       "      <th>6</th>\n",
       "      <th>7</th>\n",
       "      <th>8</th>\n",
       "    </tr>\n",
       "  </thead>\n",
       "  <tbody>\n",
       "    <tr>\n",
       "      <th>0</th>\n",
       "      <td>M</td>\n",
       "      <td>0.455</td>\n",
       "      <td>0.365</td>\n",
       "      <td>0.095</td>\n",
       "      <td>0.5140</td>\n",
       "      <td>0.2245</td>\n",
       "      <td>0.1010</td>\n",
       "      <td>0.15</td>\n",
       "      <td>15</td>\n",
       "    </tr>\n",
       "    <tr>\n",
       "      <th>1</th>\n",
       "      <td>M</td>\n",
       "      <td>0.350</td>\n",
       "      <td>0.265</td>\n",
       "      <td>0.090</td>\n",
       "      <td>0.2255</td>\n",
       "      <td>0.0995</td>\n",
       "      <td>0.0485</td>\n",
       "      <td>0.07</td>\n",
       "      <td>7</td>\n",
       "    </tr>\n",
       "    <tr>\n",
       "      <th>2</th>\n",
       "      <td>F</td>\n",
       "      <td>0.530</td>\n",
       "      <td>0.420</td>\n",
       "      <td>0.135</td>\n",
       "      <td>0.6770</td>\n",
       "      <td>0.2565</td>\n",
       "      <td>0.1415</td>\n",
       "      <td>0.21</td>\n",
       "      <td>9</td>\n",
       "    </tr>\n",
       "  </tbody>\n",
       "</table>\n",
       "</div>"
      ],
      "text/plain": [
       "   0      1      2      3       4       5       6     7   8\n",
       "0  M  0.455  0.365  0.095  0.5140  0.2245  0.1010  0.15  15\n",
       "1  M  0.350  0.265  0.090  0.2255  0.0995  0.0485  0.07   7\n",
       "2  F  0.530  0.420  0.135  0.6770  0.2565  0.1415  0.21   9"
      ]
     },
     "execution_count": 10,
     "metadata": {},
     "output_type": "execute_result"
    }
   ],
   "source": [
    "abalone.head(3)"
   ]
  },
  {
   "cell_type": "code",
   "execution_count": 11,
   "id": "ce7f574d",
   "metadata": {},
   "outputs": [
    {
     "data": {
      "text/plain": [
       "0       M\n",
       "1       M\n",
       "2       F\n",
       "3       M\n",
       "4       I\n",
       "       ..\n",
       "4172    F\n",
       "4173    M\n",
       "4174    M\n",
       "4175    F\n",
       "4176    M\n",
       "Name: 0, Length: 4177, dtype: object"
      ]
     },
     "execution_count": 11,
     "metadata": {},
     "output_type": "execute_result"
    }
   ],
   "source": [
    "abalone[0]"
   ]
  },
  {
   "cell_type": "code",
   "execution_count": 12,
   "id": "4f8eadaf",
   "metadata": {},
   "outputs": [],
   "source": [
    "abalone.columns = ['Sex', 'Length', 'Diameter', 'Height', 'Whole weight', 'Shucked weight', 'Viscera weight', 'Shell weight', 'Rings']"
   ]
  },
  {
   "cell_type": "code",
   "execution_count": 13,
   "id": "35bdfc6e",
   "metadata": {},
   "outputs": [
    {
     "data": {
      "text/html": [
       "<div>\n",
       "<style scoped>\n",
       "    .dataframe tbody tr th:only-of-type {\n",
       "        vertical-align: middle;\n",
       "    }\n",
       "\n",
       "    .dataframe tbody tr th {\n",
       "        vertical-align: top;\n",
       "    }\n",
       "\n",
       "    .dataframe thead th {\n",
       "        text-align: right;\n",
       "    }\n",
       "</style>\n",
       "<table border=\"1\" class=\"dataframe\">\n",
       "  <thead>\n",
       "    <tr style=\"text-align: right;\">\n",
       "      <th></th>\n",
       "      <th>Sex</th>\n",
       "      <th>Length</th>\n",
       "      <th>Diameter</th>\n",
       "      <th>Height</th>\n",
       "      <th>Whole weight</th>\n",
       "      <th>Shucked weight</th>\n",
       "      <th>Viscera weight</th>\n",
       "      <th>Shell weight</th>\n",
       "      <th>Rings</th>\n",
       "    </tr>\n",
       "  </thead>\n",
       "  <tbody>\n",
       "    <tr>\n",
       "      <th>0</th>\n",
       "      <td>M</td>\n",
       "      <td>0.455</td>\n",
       "      <td>0.365</td>\n",
       "      <td>0.095</td>\n",
       "      <td>0.5140</td>\n",
       "      <td>0.2245</td>\n",
       "      <td>0.1010</td>\n",
       "      <td>0.1500</td>\n",
       "      <td>15</td>\n",
       "    </tr>\n",
       "    <tr>\n",
       "      <th>1</th>\n",
       "      <td>M</td>\n",
       "      <td>0.350</td>\n",
       "      <td>0.265</td>\n",
       "      <td>0.090</td>\n",
       "      <td>0.2255</td>\n",
       "      <td>0.0995</td>\n",
       "      <td>0.0485</td>\n",
       "      <td>0.0700</td>\n",
       "      <td>7</td>\n",
       "    </tr>\n",
       "    <tr>\n",
       "      <th>2</th>\n",
       "      <td>F</td>\n",
       "      <td>0.530</td>\n",
       "      <td>0.420</td>\n",
       "      <td>0.135</td>\n",
       "      <td>0.6770</td>\n",
       "      <td>0.2565</td>\n",
       "      <td>0.1415</td>\n",
       "      <td>0.2100</td>\n",
       "      <td>9</td>\n",
       "    </tr>\n",
       "    <tr>\n",
       "      <th>3</th>\n",
       "      <td>M</td>\n",
       "      <td>0.440</td>\n",
       "      <td>0.365</td>\n",
       "      <td>0.125</td>\n",
       "      <td>0.5160</td>\n",
       "      <td>0.2155</td>\n",
       "      <td>0.1140</td>\n",
       "      <td>0.1550</td>\n",
       "      <td>10</td>\n",
       "    </tr>\n",
       "    <tr>\n",
       "      <th>4</th>\n",
       "      <td>I</td>\n",
       "      <td>0.330</td>\n",
       "      <td>0.255</td>\n",
       "      <td>0.080</td>\n",
       "      <td>0.2050</td>\n",
       "      <td>0.0895</td>\n",
       "      <td>0.0395</td>\n",
       "      <td>0.0550</td>\n",
       "      <td>7</td>\n",
       "    </tr>\n",
       "    <tr>\n",
       "      <th>...</th>\n",
       "      <td>...</td>\n",
       "      <td>...</td>\n",
       "      <td>...</td>\n",
       "      <td>...</td>\n",
       "      <td>...</td>\n",
       "      <td>...</td>\n",
       "      <td>...</td>\n",
       "      <td>...</td>\n",
       "      <td>...</td>\n",
       "    </tr>\n",
       "    <tr>\n",
       "      <th>4172</th>\n",
       "      <td>F</td>\n",
       "      <td>0.565</td>\n",
       "      <td>0.450</td>\n",
       "      <td>0.165</td>\n",
       "      <td>0.8870</td>\n",
       "      <td>0.3700</td>\n",
       "      <td>0.2390</td>\n",
       "      <td>0.2490</td>\n",
       "      <td>11</td>\n",
       "    </tr>\n",
       "    <tr>\n",
       "      <th>4173</th>\n",
       "      <td>M</td>\n",
       "      <td>0.590</td>\n",
       "      <td>0.440</td>\n",
       "      <td>0.135</td>\n",
       "      <td>0.9660</td>\n",
       "      <td>0.4390</td>\n",
       "      <td>0.2145</td>\n",
       "      <td>0.2605</td>\n",
       "      <td>10</td>\n",
       "    </tr>\n",
       "    <tr>\n",
       "      <th>4174</th>\n",
       "      <td>M</td>\n",
       "      <td>0.600</td>\n",
       "      <td>0.475</td>\n",
       "      <td>0.205</td>\n",
       "      <td>1.1760</td>\n",
       "      <td>0.5255</td>\n",
       "      <td>0.2875</td>\n",
       "      <td>0.3080</td>\n",
       "      <td>9</td>\n",
       "    </tr>\n",
       "    <tr>\n",
       "      <th>4175</th>\n",
       "      <td>F</td>\n",
       "      <td>0.625</td>\n",
       "      <td>0.485</td>\n",
       "      <td>0.150</td>\n",
       "      <td>1.0945</td>\n",
       "      <td>0.5310</td>\n",
       "      <td>0.2610</td>\n",
       "      <td>0.2960</td>\n",
       "      <td>10</td>\n",
       "    </tr>\n",
       "    <tr>\n",
       "      <th>4176</th>\n",
       "      <td>M</td>\n",
       "      <td>0.710</td>\n",
       "      <td>0.555</td>\n",
       "      <td>0.195</td>\n",
       "      <td>1.9485</td>\n",
       "      <td>0.9455</td>\n",
       "      <td>0.3765</td>\n",
       "      <td>0.4950</td>\n",
       "      <td>12</td>\n",
       "    </tr>\n",
       "  </tbody>\n",
       "</table>\n",
       "<p>4177 rows × 9 columns</p>\n",
       "</div>"
      ],
      "text/plain": [
       "     Sex  Length  Diameter  Height  Whole weight  Shucked weight  \\\n",
       "0      M   0.455     0.365   0.095        0.5140          0.2245   \n",
       "1      M   0.350     0.265   0.090        0.2255          0.0995   \n",
       "2      F   0.530     0.420   0.135        0.6770          0.2565   \n",
       "3      M   0.440     0.365   0.125        0.5160          0.2155   \n",
       "4      I   0.330     0.255   0.080        0.2050          0.0895   \n",
       "...   ..     ...       ...     ...           ...             ...   \n",
       "4172   F   0.565     0.450   0.165        0.8870          0.3700   \n",
       "4173   M   0.590     0.440   0.135        0.9660          0.4390   \n",
       "4174   M   0.600     0.475   0.205        1.1760          0.5255   \n",
       "4175   F   0.625     0.485   0.150        1.0945          0.5310   \n",
       "4176   M   0.710     0.555   0.195        1.9485          0.9455   \n",
       "\n",
       "      Viscera weight  Shell weight  Rings  \n",
       "0             0.1010        0.1500     15  \n",
       "1             0.0485        0.0700      7  \n",
       "2             0.1415        0.2100      9  \n",
       "3             0.1140        0.1550     10  \n",
       "4             0.0395        0.0550      7  \n",
       "...              ...           ...    ...  \n",
       "4172          0.2390        0.2490     11  \n",
       "4173          0.2145        0.2605     10  \n",
       "4174          0.2875        0.3080      9  \n",
       "4175          0.2610        0.2960     10  \n",
       "4176          0.3765        0.4950     12  \n",
       "\n",
       "[4177 rows x 9 columns]"
      ]
     },
     "execution_count": 13,
     "metadata": {},
     "output_type": "execute_result"
    }
   ],
   "source": [
    "abalone"
   ]
  },
  {
   "cell_type": "code",
   "execution_count": 14,
   "id": "8f081c38",
   "metadata": {},
   "outputs": [],
   "source": [
    "nutri = pd.read_excel('nutrition_elderly.xls')"
   ]
  },
  {
   "cell_type": "code",
   "execution_count": 15,
   "id": "8b4f110c",
   "metadata": {},
   "outputs": [
    {
     "data": {
      "text/html": [
       "<div>\n",
       "<style scoped>\n",
       "    .dataframe tbody tr th:only-of-type {\n",
       "        vertical-align: middle;\n",
       "    }\n",
       "\n",
       "    .dataframe tbody tr th {\n",
       "        vertical-align: top;\n",
       "    }\n",
       "\n",
       "    .dataframe thead th {\n",
       "        text-align: right;\n",
       "    }\n",
       "</style>\n",
       "<table border=\"1\" class=\"dataframe\">\n",
       "  <thead>\n",
       "    <tr style=\"text-align: right;\">\n",
       "      <th></th>\n",
       "      <th>gender</th>\n",
       "      <th>situation</th>\n",
       "      <th>tea</th>\n",
       "      <th>coffee</th>\n",
       "      <th>height</th>\n",
       "      <th>weight</th>\n",
       "      <th>age</th>\n",
       "      <th>meat</th>\n",
       "      <th>fish</th>\n",
       "      <th>raw_fruit</th>\n",
       "      <th>cooked_fruit_veg</th>\n",
       "      <th>chocol</th>\n",
       "      <th>fat</th>\n",
       "    </tr>\n",
       "  </thead>\n",
       "  <tbody>\n",
       "    <tr>\n",
       "      <th>0</th>\n",
       "      <td>2</td>\n",
       "      <td>1</td>\n",
       "      <td>0</td>\n",
       "      <td>0</td>\n",
       "      <td>151</td>\n",
       "      <td>58</td>\n",
       "      <td>72</td>\n",
       "      <td>4</td>\n",
       "      <td>3</td>\n",
       "      <td>1</td>\n",
       "      <td>4</td>\n",
       "      <td>5</td>\n",
       "      <td>6</td>\n",
       "    </tr>\n",
       "    <tr>\n",
       "      <th>1</th>\n",
       "      <td>2</td>\n",
       "      <td>1</td>\n",
       "      <td>1</td>\n",
       "      <td>1</td>\n",
       "      <td>162</td>\n",
       "      <td>60</td>\n",
       "      <td>68</td>\n",
       "      <td>5</td>\n",
       "      <td>2</td>\n",
       "      <td>5</td>\n",
       "      <td>5</td>\n",
       "      <td>1</td>\n",
       "      <td>4</td>\n",
       "    </tr>\n",
       "    <tr>\n",
       "      <th>2</th>\n",
       "      <td>2</td>\n",
       "      <td>1</td>\n",
       "      <td>0</td>\n",
       "      <td>4</td>\n",
       "      <td>162</td>\n",
       "      <td>75</td>\n",
       "      <td>78</td>\n",
       "      <td>3</td>\n",
       "      <td>1</td>\n",
       "      <td>5</td>\n",
       "      <td>2</td>\n",
       "      <td>5</td>\n",
       "      <td>4</td>\n",
       "    </tr>\n",
       "    <tr>\n",
       "      <th>3</th>\n",
       "      <td>2</td>\n",
       "      <td>1</td>\n",
       "      <td>0</td>\n",
       "      <td>0</td>\n",
       "      <td>154</td>\n",
       "      <td>45</td>\n",
       "      <td>91</td>\n",
       "      <td>0</td>\n",
       "      <td>4</td>\n",
       "      <td>4</td>\n",
       "      <td>0</td>\n",
       "      <td>3</td>\n",
       "      <td>2</td>\n",
       "    </tr>\n",
       "    <tr>\n",
       "      <th>4</th>\n",
       "      <td>2</td>\n",
       "      <td>1</td>\n",
       "      <td>2</td>\n",
       "      <td>1</td>\n",
       "      <td>154</td>\n",
       "      <td>50</td>\n",
       "      <td>65</td>\n",
       "      <td>5</td>\n",
       "      <td>3</td>\n",
       "      <td>5</td>\n",
       "      <td>5</td>\n",
       "      <td>3</td>\n",
       "      <td>2</td>\n",
       "    </tr>\n",
       "    <tr>\n",
       "      <th>...</th>\n",
       "      <td>...</td>\n",
       "      <td>...</td>\n",
       "      <td>...</td>\n",
       "      <td>...</td>\n",
       "      <td>...</td>\n",
       "      <td>...</td>\n",
       "      <td>...</td>\n",
       "      <td>...</td>\n",
       "      <td>...</td>\n",
       "      <td>...</td>\n",
       "      <td>...</td>\n",
       "      <td>...</td>\n",
       "      <td>...</td>\n",
       "    </tr>\n",
       "    <tr>\n",
       "      <th>221</th>\n",
       "      <td>2</td>\n",
       "      <td>1</td>\n",
       "      <td>0</td>\n",
       "      <td>1</td>\n",
       "      <td>160</td>\n",
       "      <td>73</td>\n",
       "      <td>74</td>\n",
       "      <td>4</td>\n",
       "      <td>3</td>\n",
       "      <td>5</td>\n",
       "      <td>5</td>\n",
       "      <td>1</td>\n",
       "      <td>6</td>\n",
       "    </tr>\n",
       "    <tr>\n",
       "      <th>222</th>\n",
       "      <td>2</td>\n",
       "      <td>2</td>\n",
       "      <td>0</td>\n",
       "      <td>3</td>\n",
       "      <td>163</td>\n",
       "      <td>62</td>\n",
       "      <td>68</td>\n",
       "      <td>4</td>\n",
       "      <td>3</td>\n",
       "      <td>4</td>\n",
       "      <td>4</td>\n",
       "      <td>1</td>\n",
       "      <td>3</td>\n",
       "    </tr>\n",
       "    <tr>\n",
       "      <th>223</th>\n",
       "      <td>1</td>\n",
       "      <td>2</td>\n",
       "      <td>0</td>\n",
       "      <td>2</td>\n",
       "      <td>170</td>\n",
       "      <td>74</td>\n",
       "      <td>71</td>\n",
       "      <td>4</td>\n",
       "      <td>3</td>\n",
       "      <td>4</td>\n",
       "      <td>4</td>\n",
       "      <td>1</td>\n",
       "      <td>3</td>\n",
       "    </tr>\n",
       "    <tr>\n",
       "      <th>224</th>\n",
       "      <td>2</td>\n",
       "      <td>1</td>\n",
       "      <td>0</td>\n",
       "      <td>2</td>\n",
       "      <td>154</td>\n",
       "      <td>45</td>\n",
       "      <td>77</td>\n",
       "      <td>4</td>\n",
       "      <td>3</td>\n",
       "      <td>3</td>\n",
       "      <td>5</td>\n",
       "      <td>3</td>\n",
       "      <td>5</td>\n",
       "    </tr>\n",
       "    <tr>\n",
       "      <th>225</th>\n",
       "      <td>2</td>\n",
       "      <td>2</td>\n",
       "      <td>2</td>\n",
       "      <td>0</td>\n",
       "      <td>159</td>\n",
       "      <td>63</td>\n",
       "      <td>69</td>\n",
       "      <td>3</td>\n",
       "      <td>3</td>\n",
       "      <td>5</td>\n",
       "      <td>5</td>\n",
       "      <td>1</td>\n",
       "      <td>4</td>\n",
       "    </tr>\n",
       "  </tbody>\n",
       "</table>\n",
       "<p>226 rows × 13 columns</p>\n",
       "</div>"
      ],
      "text/plain": [
       "     gender  situation  tea  coffee  height  weight  age  meat  fish  \\\n",
       "0         2          1    0       0     151      58   72     4     3   \n",
       "1         2          1    1       1     162      60   68     5     2   \n",
       "2         2          1    0       4     162      75   78     3     1   \n",
       "3         2          1    0       0     154      45   91     0     4   \n",
       "4         2          1    2       1     154      50   65     5     3   \n",
       "..      ...        ...  ...     ...     ...     ...  ...   ...   ...   \n",
       "221       2          1    0       1     160      73   74     4     3   \n",
       "222       2          2    0       3     163      62   68     4     3   \n",
       "223       1          2    0       2     170      74   71     4     3   \n",
       "224       2          1    0       2     154      45   77     4     3   \n",
       "225       2          2    2       0     159      63   69     3     3   \n",
       "\n",
       "     raw_fruit  cooked_fruit_veg  chocol  fat  \n",
       "0            1                 4       5    6  \n",
       "1            5                 5       1    4  \n",
       "2            5                 2       5    4  \n",
       "3            4                 0       3    2  \n",
       "4            5                 5       3    2  \n",
       "..         ...               ...     ...  ...  \n",
       "221          5                 5       1    6  \n",
       "222          4                 4       1    3  \n",
       "223          4                 4       1    3  \n",
       "224          3                 5       3    5  \n",
       "225          5                 5       1    4  \n",
       "\n",
       "[226 rows x 13 columns]"
      ]
     },
     "execution_count": 15,
     "metadata": {},
     "output_type": "execute_result"
    }
   ],
   "source": [
    "nutri"
   ]
  },
  {
   "cell_type": "code",
   "execution_count": 16,
   "id": "00fc006c",
   "metadata": {},
   "outputs": [],
   "source": [
    "pd.set_option('display.max_columns', 8)"
   ]
  },
  {
   "cell_type": "code",
   "execution_count": 17,
   "id": "cac593d2",
   "metadata": {},
   "outputs": [
    {
     "data": {
      "text/html": [
       "<div>\n",
       "<style scoped>\n",
       "    .dataframe tbody tr th:only-of-type {\n",
       "        vertical-align: middle;\n",
       "    }\n",
       "\n",
       "    .dataframe tbody tr th {\n",
       "        vertical-align: top;\n",
       "    }\n",
       "\n",
       "    .dataframe thead th {\n",
       "        text-align: right;\n",
       "    }\n",
       "</style>\n",
       "<table border=\"1\" class=\"dataframe\">\n",
       "  <thead>\n",
       "    <tr style=\"text-align: right;\">\n",
       "      <th></th>\n",
       "      <th>gender</th>\n",
       "      <th>situation</th>\n",
       "      <th>tea</th>\n",
       "      <th>coffee</th>\n",
       "      <th>...</th>\n",
       "      <th>raw_fruit</th>\n",
       "      <th>cooked_fruit_veg</th>\n",
       "      <th>chocol</th>\n",
       "      <th>fat</th>\n",
       "    </tr>\n",
       "  </thead>\n",
       "  <tbody>\n",
       "    <tr>\n",
       "      <th>0</th>\n",
       "      <td>2</td>\n",
       "      <td>1</td>\n",
       "      <td>0</td>\n",
       "      <td>0</td>\n",
       "      <td>...</td>\n",
       "      <td>1</td>\n",
       "      <td>4</td>\n",
       "      <td>5</td>\n",
       "      <td>6</td>\n",
       "    </tr>\n",
       "    <tr>\n",
       "      <th>1</th>\n",
       "      <td>2</td>\n",
       "      <td>1</td>\n",
       "      <td>1</td>\n",
       "      <td>1</td>\n",
       "      <td>...</td>\n",
       "      <td>5</td>\n",
       "      <td>5</td>\n",
       "      <td>1</td>\n",
       "      <td>4</td>\n",
       "    </tr>\n",
       "    <tr>\n",
       "      <th>2</th>\n",
       "      <td>2</td>\n",
       "      <td>1</td>\n",
       "      <td>0</td>\n",
       "      <td>4</td>\n",
       "      <td>...</td>\n",
       "      <td>5</td>\n",
       "      <td>2</td>\n",
       "      <td>5</td>\n",
       "      <td>4</td>\n",
       "    </tr>\n",
       "    <tr>\n",
       "      <th>3</th>\n",
       "      <td>2</td>\n",
       "      <td>1</td>\n",
       "      <td>0</td>\n",
       "      <td>0</td>\n",
       "      <td>...</td>\n",
       "      <td>4</td>\n",
       "      <td>0</td>\n",
       "      <td>3</td>\n",
       "      <td>2</td>\n",
       "    </tr>\n",
       "    <tr>\n",
       "      <th>4</th>\n",
       "      <td>2</td>\n",
       "      <td>1</td>\n",
       "      <td>2</td>\n",
       "      <td>1</td>\n",
       "      <td>...</td>\n",
       "      <td>5</td>\n",
       "      <td>5</td>\n",
       "      <td>3</td>\n",
       "      <td>2</td>\n",
       "    </tr>\n",
       "    <tr>\n",
       "      <th>...</th>\n",
       "      <td>...</td>\n",
       "      <td>...</td>\n",
       "      <td>...</td>\n",
       "      <td>...</td>\n",
       "      <td>...</td>\n",
       "      <td>...</td>\n",
       "      <td>...</td>\n",
       "      <td>...</td>\n",
       "      <td>...</td>\n",
       "    </tr>\n",
       "    <tr>\n",
       "      <th>221</th>\n",
       "      <td>2</td>\n",
       "      <td>1</td>\n",
       "      <td>0</td>\n",
       "      <td>1</td>\n",
       "      <td>...</td>\n",
       "      <td>5</td>\n",
       "      <td>5</td>\n",
       "      <td>1</td>\n",
       "      <td>6</td>\n",
       "    </tr>\n",
       "    <tr>\n",
       "      <th>222</th>\n",
       "      <td>2</td>\n",
       "      <td>2</td>\n",
       "      <td>0</td>\n",
       "      <td>3</td>\n",
       "      <td>...</td>\n",
       "      <td>4</td>\n",
       "      <td>4</td>\n",
       "      <td>1</td>\n",
       "      <td>3</td>\n",
       "    </tr>\n",
       "    <tr>\n",
       "      <th>223</th>\n",
       "      <td>1</td>\n",
       "      <td>2</td>\n",
       "      <td>0</td>\n",
       "      <td>2</td>\n",
       "      <td>...</td>\n",
       "      <td>4</td>\n",
       "      <td>4</td>\n",
       "      <td>1</td>\n",
       "      <td>3</td>\n",
       "    </tr>\n",
       "    <tr>\n",
       "      <th>224</th>\n",
       "      <td>2</td>\n",
       "      <td>1</td>\n",
       "      <td>0</td>\n",
       "      <td>2</td>\n",
       "      <td>...</td>\n",
       "      <td>3</td>\n",
       "      <td>5</td>\n",
       "      <td>3</td>\n",
       "      <td>5</td>\n",
       "    </tr>\n",
       "    <tr>\n",
       "      <th>225</th>\n",
       "      <td>2</td>\n",
       "      <td>2</td>\n",
       "      <td>2</td>\n",
       "      <td>0</td>\n",
       "      <td>...</td>\n",
       "      <td>5</td>\n",
       "      <td>5</td>\n",
       "      <td>1</td>\n",
       "      <td>4</td>\n",
       "    </tr>\n",
       "  </tbody>\n",
       "</table>\n",
       "<p>226 rows × 13 columns</p>\n",
       "</div>"
      ],
      "text/plain": [
       "     gender  situation  tea  coffee  ...  raw_fruit  cooked_fruit_veg  chocol  \\\n",
       "0         2          1    0       0  ...          1                 4       5   \n",
       "1         2          1    1       1  ...          5                 5       1   \n",
       "2         2          1    0       4  ...          5                 2       5   \n",
       "3         2          1    0       0  ...          4                 0       3   \n",
       "4         2          1    2       1  ...          5                 5       3   \n",
       "..      ...        ...  ...     ...  ...        ...               ...     ...   \n",
       "221       2          1    0       1  ...          5                 5       1   \n",
       "222       2          2    0       3  ...          4                 4       1   \n",
       "223       1          2    0       2  ...          4                 4       1   \n",
       "224       2          1    0       2  ...          3                 5       3   \n",
       "225       2          2    2       0  ...          5                 5       1   \n",
       "\n",
       "     fat  \n",
       "0      6  \n",
       "1      4  \n",
       "2      4  \n",
       "3      2  \n",
       "4      2  \n",
       "..   ...  \n",
       "221    6  \n",
       "222    3  \n",
       "223    3  \n",
       "224    5  \n",
       "225    4  \n",
       "\n",
       "[226 rows x 13 columns]"
      ]
     },
     "execution_count": 17,
     "metadata": {},
     "output_type": "execute_result"
    }
   ],
   "source": [
    "nutri"
   ]
  },
  {
   "cell_type": "code",
   "execution_count": 18,
   "id": "a7223c15",
   "metadata": {},
   "outputs": [
    {
     "name": "stdout",
     "output_type": "stream",
     "text": [
      "<class 'pandas.core.frame.DataFrame'>\n",
      "RangeIndex: 226 entries, 0 to 225\n",
      "Data columns (total 13 columns):\n",
      " #   Column            Non-Null Count  Dtype\n",
      "---  ------            --------------  -----\n",
      " 0   gender            226 non-null    int64\n",
      " 1   situation         226 non-null    int64\n",
      " 2   tea               226 non-null    int64\n",
      " 3   coffee            226 non-null    int64\n",
      " 4   height            226 non-null    int64\n",
      " 5   weight            226 non-null    int64\n",
      " 6   age               226 non-null    int64\n",
      " 7   meat              226 non-null    int64\n",
      " 8   fish              226 non-null    int64\n",
      " 9   raw_fruit         226 non-null    int64\n",
      " 10  cooked_fruit_veg  226 non-null    int64\n",
      " 11  chocol            226 non-null    int64\n",
      " 12  fat               226 non-null    int64\n",
      "dtypes: int64(13)\n",
      "memory usage: 23.1 KB\n"
     ]
    }
   ],
   "source": [
    "nutri.info()"
   ]
  },
  {
   "cell_type": "code",
   "execution_count": 20,
   "id": "32299fe5",
   "metadata": {},
   "outputs": [],
   "source": [
    "DICT = {1:'Male', 2:'Female'}\n",
    "nutri['gender'] = nutri['gender'].replace(DICT).astype('category')"
   ]
  },
  {
   "cell_type": "code",
   "execution_count": 21,
   "id": "b133f6f8",
   "metadata": {},
   "outputs": [
    {
     "data": {
      "text/html": [
       "<div>\n",
       "<style scoped>\n",
       "    .dataframe tbody tr th:only-of-type {\n",
       "        vertical-align: middle;\n",
       "    }\n",
       "\n",
       "    .dataframe tbody tr th {\n",
       "        vertical-align: top;\n",
       "    }\n",
       "\n",
       "    .dataframe thead th {\n",
       "        text-align: right;\n",
       "    }\n",
       "</style>\n",
       "<table border=\"1\" class=\"dataframe\">\n",
       "  <thead>\n",
       "    <tr style=\"text-align: right;\">\n",
       "      <th></th>\n",
       "      <th>gender</th>\n",
       "      <th>situation</th>\n",
       "      <th>tea</th>\n",
       "      <th>coffee</th>\n",
       "      <th>...</th>\n",
       "      <th>raw_fruit</th>\n",
       "      <th>cooked_fruit_veg</th>\n",
       "      <th>chocol</th>\n",
       "      <th>fat</th>\n",
       "    </tr>\n",
       "  </thead>\n",
       "  <tbody>\n",
       "    <tr>\n",
       "      <th>0</th>\n",
       "      <td>Female</td>\n",
       "      <td>1</td>\n",
       "      <td>0</td>\n",
       "      <td>0</td>\n",
       "      <td>...</td>\n",
       "      <td>1</td>\n",
       "      <td>4</td>\n",
       "      <td>5</td>\n",
       "      <td>6</td>\n",
       "    </tr>\n",
       "    <tr>\n",
       "      <th>1</th>\n",
       "      <td>Female</td>\n",
       "      <td>1</td>\n",
       "      <td>1</td>\n",
       "      <td>1</td>\n",
       "      <td>...</td>\n",
       "      <td>5</td>\n",
       "      <td>5</td>\n",
       "      <td>1</td>\n",
       "      <td>4</td>\n",
       "    </tr>\n",
       "    <tr>\n",
       "      <th>2</th>\n",
       "      <td>Female</td>\n",
       "      <td>1</td>\n",
       "      <td>0</td>\n",
       "      <td>4</td>\n",
       "      <td>...</td>\n",
       "      <td>5</td>\n",
       "      <td>2</td>\n",
       "      <td>5</td>\n",
       "      <td>4</td>\n",
       "    </tr>\n",
       "    <tr>\n",
       "      <th>3</th>\n",
       "      <td>Female</td>\n",
       "      <td>1</td>\n",
       "      <td>0</td>\n",
       "      <td>0</td>\n",
       "      <td>...</td>\n",
       "      <td>4</td>\n",
       "      <td>0</td>\n",
       "      <td>3</td>\n",
       "      <td>2</td>\n",
       "    </tr>\n",
       "    <tr>\n",
       "      <th>4</th>\n",
       "      <td>Female</td>\n",
       "      <td>1</td>\n",
       "      <td>2</td>\n",
       "      <td>1</td>\n",
       "      <td>...</td>\n",
       "      <td>5</td>\n",
       "      <td>5</td>\n",
       "      <td>3</td>\n",
       "      <td>2</td>\n",
       "    </tr>\n",
       "    <tr>\n",
       "      <th>...</th>\n",
       "      <td>...</td>\n",
       "      <td>...</td>\n",
       "      <td>...</td>\n",
       "      <td>...</td>\n",
       "      <td>...</td>\n",
       "      <td>...</td>\n",
       "      <td>...</td>\n",
       "      <td>...</td>\n",
       "      <td>...</td>\n",
       "    </tr>\n",
       "    <tr>\n",
       "      <th>221</th>\n",
       "      <td>Female</td>\n",
       "      <td>1</td>\n",
       "      <td>0</td>\n",
       "      <td>1</td>\n",
       "      <td>...</td>\n",
       "      <td>5</td>\n",
       "      <td>5</td>\n",
       "      <td>1</td>\n",
       "      <td>6</td>\n",
       "    </tr>\n",
       "    <tr>\n",
       "      <th>222</th>\n",
       "      <td>Female</td>\n",
       "      <td>2</td>\n",
       "      <td>0</td>\n",
       "      <td>3</td>\n",
       "      <td>...</td>\n",
       "      <td>4</td>\n",
       "      <td>4</td>\n",
       "      <td>1</td>\n",
       "      <td>3</td>\n",
       "    </tr>\n",
       "    <tr>\n",
       "      <th>223</th>\n",
       "      <td>Male</td>\n",
       "      <td>2</td>\n",
       "      <td>0</td>\n",
       "      <td>2</td>\n",
       "      <td>...</td>\n",
       "      <td>4</td>\n",
       "      <td>4</td>\n",
       "      <td>1</td>\n",
       "      <td>3</td>\n",
       "    </tr>\n",
       "    <tr>\n",
       "      <th>224</th>\n",
       "      <td>Female</td>\n",
       "      <td>1</td>\n",
       "      <td>0</td>\n",
       "      <td>2</td>\n",
       "      <td>...</td>\n",
       "      <td>3</td>\n",
       "      <td>5</td>\n",
       "      <td>3</td>\n",
       "      <td>5</td>\n",
       "    </tr>\n",
       "    <tr>\n",
       "      <th>225</th>\n",
       "      <td>Female</td>\n",
       "      <td>2</td>\n",
       "      <td>2</td>\n",
       "      <td>0</td>\n",
       "      <td>...</td>\n",
       "      <td>5</td>\n",
       "      <td>5</td>\n",
       "      <td>1</td>\n",
       "      <td>4</td>\n",
       "    </tr>\n",
       "  </tbody>\n",
       "</table>\n",
       "<p>226 rows × 13 columns</p>\n",
       "</div>"
      ],
      "text/plain": [
       "     gender  situation  tea  coffee  ...  raw_fruit  cooked_fruit_veg  chocol  \\\n",
       "0    Female          1    0       0  ...          1                 4       5   \n",
       "1    Female          1    1       1  ...          5                 5       1   \n",
       "2    Female          1    0       4  ...          5                 2       5   \n",
       "3    Female          1    0       0  ...          4                 0       3   \n",
       "4    Female          1    2       1  ...          5                 5       3   \n",
       "..      ...        ...  ...     ...  ...        ...               ...     ...   \n",
       "221  Female          1    0       1  ...          5                 5       1   \n",
       "222  Female          2    0       3  ...          4                 4       1   \n",
       "223    Male          2    0       2  ...          4                 4       1   \n",
       "224  Female          1    0       2  ...          3                 5       3   \n",
       "225  Female          2    2       0  ...          5                 5       1   \n",
       "\n",
       "     fat  \n",
       "0      6  \n",
       "1      4  \n",
       "2      4  \n",
       "3      2  \n",
       "4      2  \n",
       "..   ...  \n",
       "221    6  \n",
       "222    3  \n",
       "223    3  \n",
       "224    5  \n",
       "225    4  \n",
       "\n",
       "[226 rows x 13 columns]"
      ]
     },
     "execution_count": 21,
     "metadata": {},
     "output_type": "execute_result"
    }
   ],
   "source": [
    "nutri"
   ]
  },
  {
   "cell_type": "code",
   "execution_count": 22,
   "id": "a6accd30",
   "metadata": {},
   "outputs": [],
   "source": [
    "nutri['height'] = nutri['height'].astype(float)"
   ]
  },
  {
   "cell_type": "code",
   "execution_count": 23,
   "id": "c453b054",
   "metadata": {},
   "outputs": [
    {
     "data": {
      "text/html": [
       "<div>\n",
       "<style scoped>\n",
       "    .dataframe tbody tr th:only-of-type {\n",
       "        vertical-align: middle;\n",
       "    }\n",
       "\n",
       "    .dataframe tbody tr th {\n",
       "        vertical-align: top;\n",
       "    }\n",
       "\n",
       "    .dataframe thead th {\n",
       "        text-align: right;\n",
       "    }\n",
       "</style>\n",
       "<table border=\"1\" class=\"dataframe\">\n",
       "  <thead>\n",
       "    <tr style=\"text-align: right;\">\n",
       "      <th></th>\n",
       "      <th>gender</th>\n",
       "      <th>situation</th>\n",
       "      <th>tea</th>\n",
       "      <th>coffee</th>\n",
       "      <th>...</th>\n",
       "      <th>raw_fruit</th>\n",
       "      <th>cooked_fruit_veg</th>\n",
       "      <th>chocol</th>\n",
       "      <th>fat</th>\n",
       "    </tr>\n",
       "  </thead>\n",
       "  <tbody>\n",
       "    <tr>\n",
       "      <th>0</th>\n",
       "      <td>Female</td>\n",
       "      <td>1</td>\n",
       "      <td>0</td>\n",
       "      <td>0</td>\n",
       "      <td>...</td>\n",
       "      <td>1</td>\n",
       "      <td>4</td>\n",
       "      <td>5</td>\n",
       "      <td>6</td>\n",
       "    </tr>\n",
       "    <tr>\n",
       "      <th>1</th>\n",
       "      <td>Female</td>\n",
       "      <td>1</td>\n",
       "      <td>1</td>\n",
       "      <td>1</td>\n",
       "      <td>...</td>\n",
       "      <td>5</td>\n",
       "      <td>5</td>\n",
       "      <td>1</td>\n",
       "      <td>4</td>\n",
       "    </tr>\n",
       "    <tr>\n",
       "      <th>2</th>\n",
       "      <td>Female</td>\n",
       "      <td>1</td>\n",
       "      <td>0</td>\n",
       "      <td>4</td>\n",
       "      <td>...</td>\n",
       "      <td>5</td>\n",
       "      <td>2</td>\n",
       "      <td>5</td>\n",
       "      <td>4</td>\n",
       "    </tr>\n",
       "    <tr>\n",
       "      <th>3</th>\n",
       "      <td>Female</td>\n",
       "      <td>1</td>\n",
       "      <td>0</td>\n",
       "      <td>0</td>\n",
       "      <td>...</td>\n",
       "      <td>4</td>\n",
       "      <td>0</td>\n",
       "      <td>3</td>\n",
       "      <td>2</td>\n",
       "    </tr>\n",
       "    <tr>\n",
       "      <th>4</th>\n",
       "      <td>Female</td>\n",
       "      <td>1</td>\n",
       "      <td>2</td>\n",
       "      <td>1</td>\n",
       "      <td>...</td>\n",
       "      <td>5</td>\n",
       "      <td>5</td>\n",
       "      <td>3</td>\n",
       "      <td>2</td>\n",
       "    </tr>\n",
       "    <tr>\n",
       "      <th>...</th>\n",
       "      <td>...</td>\n",
       "      <td>...</td>\n",
       "      <td>...</td>\n",
       "      <td>...</td>\n",
       "      <td>...</td>\n",
       "      <td>...</td>\n",
       "      <td>...</td>\n",
       "      <td>...</td>\n",
       "      <td>...</td>\n",
       "    </tr>\n",
       "    <tr>\n",
       "      <th>221</th>\n",
       "      <td>Female</td>\n",
       "      <td>1</td>\n",
       "      <td>0</td>\n",
       "      <td>1</td>\n",
       "      <td>...</td>\n",
       "      <td>5</td>\n",
       "      <td>5</td>\n",
       "      <td>1</td>\n",
       "      <td>6</td>\n",
       "    </tr>\n",
       "    <tr>\n",
       "      <th>222</th>\n",
       "      <td>Female</td>\n",
       "      <td>2</td>\n",
       "      <td>0</td>\n",
       "      <td>3</td>\n",
       "      <td>...</td>\n",
       "      <td>4</td>\n",
       "      <td>4</td>\n",
       "      <td>1</td>\n",
       "      <td>3</td>\n",
       "    </tr>\n",
       "    <tr>\n",
       "      <th>223</th>\n",
       "      <td>Male</td>\n",
       "      <td>2</td>\n",
       "      <td>0</td>\n",
       "      <td>2</td>\n",
       "      <td>...</td>\n",
       "      <td>4</td>\n",
       "      <td>4</td>\n",
       "      <td>1</td>\n",
       "      <td>3</td>\n",
       "    </tr>\n",
       "    <tr>\n",
       "      <th>224</th>\n",
       "      <td>Female</td>\n",
       "      <td>1</td>\n",
       "      <td>0</td>\n",
       "      <td>2</td>\n",
       "      <td>...</td>\n",
       "      <td>3</td>\n",
       "      <td>5</td>\n",
       "      <td>3</td>\n",
       "      <td>5</td>\n",
       "    </tr>\n",
       "    <tr>\n",
       "      <th>225</th>\n",
       "      <td>Female</td>\n",
       "      <td>2</td>\n",
       "      <td>2</td>\n",
       "      <td>0</td>\n",
       "      <td>...</td>\n",
       "      <td>5</td>\n",
       "      <td>5</td>\n",
       "      <td>1</td>\n",
       "      <td>4</td>\n",
       "    </tr>\n",
       "  </tbody>\n",
       "</table>\n",
       "<p>226 rows × 13 columns</p>\n",
       "</div>"
      ],
      "text/plain": [
       "     gender  situation  tea  coffee  ...  raw_fruit  cooked_fruit_veg  chocol  \\\n",
       "0    Female          1    0       0  ...          1                 4       5   \n",
       "1    Female          1    1       1  ...          5                 5       1   \n",
       "2    Female          1    0       4  ...          5                 2       5   \n",
       "3    Female          1    0       0  ...          4                 0       3   \n",
       "4    Female          1    2       1  ...          5                 5       3   \n",
       "..      ...        ...  ...     ...  ...        ...               ...     ...   \n",
       "221  Female          1    0       1  ...          5                 5       1   \n",
       "222  Female          2    0       3  ...          4                 4       1   \n",
       "223    Male          2    0       2  ...          4                 4       1   \n",
       "224  Female          1    0       2  ...          3                 5       3   \n",
       "225  Female          2    2       0  ...          5                 5       1   \n",
       "\n",
       "     fat  \n",
       "0      6  \n",
       "1      4  \n",
       "2      4  \n",
       "3      2  \n",
       "4      2  \n",
       "..   ...  \n",
       "221    6  \n",
       "222    3  \n",
       "223    3  \n",
       "224    5  \n",
       "225    4  \n",
       "\n",
       "[226 rows x 13 columns]"
      ]
     },
     "execution_count": 23,
     "metadata": {},
     "output_type": "execute_result"
    }
   ],
   "source": [
    "nutri"
   ]
  },
  {
   "cell_type": "code",
   "execution_count": 24,
   "id": "c16d7a1b",
   "metadata": {},
   "outputs": [
    {
     "data": {
      "text/plain": [
       "0      151.0\n",
       "1      162.0\n",
       "2      162.0\n",
       "3      154.0\n",
       "4      154.0\n",
       "       ...  \n",
       "221    160.0\n",
       "222    163.0\n",
       "223    170.0\n",
       "224    154.0\n",
       "225    159.0\n",
       "Name: height, Length: 226, dtype: float64"
      ]
     },
     "execution_count": 24,
     "metadata": {},
     "output_type": "execute_result"
    }
   ],
   "source": [
    "nutri['height']"
   ]
  },
  {
   "cell_type": "code",
   "execution_count": 25,
   "id": "89416b7a",
   "metadata": {},
   "outputs": [],
   "source": [
    "nutri.to_csv('nutri.csv', index=False)"
   ]
  },
  {
   "cell_type": "code",
   "execution_count": 26,
   "id": "15ae7f53",
   "metadata": {},
   "outputs": [],
   "source": [
    "nutri = pd.read_csv('nutri.csv')"
   ]
  },
  {
   "cell_type": "code",
   "execution_count": 27,
   "id": "53b8602c",
   "metadata": {},
   "outputs": [
    {
     "data": {
      "text/html": [
       "<div>\n",
       "<style scoped>\n",
       "    .dataframe tbody tr th:only-of-type {\n",
       "        vertical-align: middle;\n",
       "    }\n",
       "\n",
       "    .dataframe tbody tr th {\n",
       "        vertical-align: top;\n",
       "    }\n",
       "\n",
       "    .dataframe thead th {\n",
       "        text-align: right;\n",
       "    }\n",
       "</style>\n",
       "<table border=\"1\" class=\"dataframe\">\n",
       "  <thead>\n",
       "    <tr style=\"text-align: right;\">\n",
       "      <th></th>\n",
       "      <th>gender</th>\n",
       "      <th>situation</th>\n",
       "      <th>tea</th>\n",
       "      <th>coffee</th>\n",
       "      <th>...</th>\n",
       "      <th>raw_fruit</th>\n",
       "      <th>cooked_fruit_veg</th>\n",
       "      <th>chocol</th>\n",
       "      <th>fat</th>\n",
       "    </tr>\n",
       "  </thead>\n",
       "  <tbody>\n",
       "    <tr>\n",
       "      <th>0</th>\n",
       "      <td>Female</td>\n",
       "      <td>1</td>\n",
       "      <td>0</td>\n",
       "      <td>0</td>\n",
       "      <td>...</td>\n",
       "      <td>1</td>\n",
       "      <td>4</td>\n",
       "      <td>5</td>\n",
       "      <td>6</td>\n",
       "    </tr>\n",
       "    <tr>\n",
       "      <th>1</th>\n",
       "      <td>Female</td>\n",
       "      <td>1</td>\n",
       "      <td>1</td>\n",
       "      <td>1</td>\n",
       "      <td>...</td>\n",
       "      <td>5</td>\n",
       "      <td>5</td>\n",
       "      <td>1</td>\n",
       "      <td>4</td>\n",
       "    </tr>\n",
       "    <tr>\n",
       "      <th>2</th>\n",
       "      <td>Female</td>\n",
       "      <td>1</td>\n",
       "      <td>0</td>\n",
       "      <td>4</td>\n",
       "      <td>...</td>\n",
       "      <td>5</td>\n",
       "      <td>2</td>\n",
       "      <td>5</td>\n",
       "      <td>4</td>\n",
       "    </tr>\n",
       "    <tr>\n",
       "      <th>3</th>\n",
       "      <td>Female</td>\n",
       "      <td>1</td>\n",
       "      <td>0</td>\n",
       "      <td>0</td>\n",
       "      <td>...</td>\n",
       "      <td>4</td>\n",
       "      <td>0</td>\n",
       "      <td>3</td>\n",
       "      <td>2</td>\n",
       "    </tr>\n",
       "    <tr>\n",
       "      <th>4</th>\n",
       "      <td>Female</td>\n",
       "      <td>1</td>\n",
       "      <td>2</td>\n",
       "      <td>1</td>\n",
       "      <td>...</td>\n",
       "      <td>5</td>\n",
       "      <td>5</td>\n",
       "      <td>3</td>\n",
       "      <td>2</td>\n",
       "    </tr>\n",
       "    <tr>\n",
       "      <th>...</th>\n",
       "      <td>...</td>\n",
       "      <td>...</td>\n",
       "      <td>...</td>\n",
       "      <td>...</td>\n",
       "      <td>...</td>\n",
       "      <td>...</td>\n",
       "      <td>...</td>\n",
       "      <td>...</td>\n",
       "      <td>...</td>\n",
       "    </tr>\n",
       "    <tr>\n",
       "      <th>221</th>\n",
       "      <td>Female</td>\n",
       "      <td>1</td>\n",
       "      <td>0</td>\n",
       "      <td>1</td>\n",
       "      <td>...</td>\n",
       "      <td>5</td>\n",
       "      <td>5</td>\n",
       "      <td>1</td>\n",
       "      <td>6</td>\n",
       "    </tr>\n",
       "    <tr>\n",
       "      <th>222</th>\n",
       "      <td>Female</td>\n",
       "      <td>2</td>\n",
       "      <td>0</td>\n",
       "      <td>3</td>\n",
       "      <td>...</td>\n",
       "      <td>4</td>\n",
       "      <td>4</td>\n",
       "      <td>1</td>\n",
       "      <td>3</td>\n",
       "    </tr>\n",
       "    <tr>\n",
       "      <th>223</th>\n",
       "      <td>Male</td>\n",
       "      <td>2</td>\n",
       "      <td>0</td>\n",
       "      <td>2</td>\n",
       "      <td>...</td>\n",
       "      <td>4</td>\n",
       "      <td>4</td>\n",
       "      <td>1</td>\n",
       "      <td>3</td>\n",
       "    </tr>\n",
       "    <tr>\n",
       "      <th>224</th>\n",
       "      <td>Female</td>\n",
       "      <td>1</td>\n",
       "      <td>0</td>\n",
       "      <td>2</td>\n",
       "      <td>...</td>\n",
       "      <td>3</td>\n",
       "      <td>5</td>\n",
       "      <td>3</td>\n",
       "      <td>5</td>\n",
       "    </tr>\n",
       "    <tr>\n",
       "      <th>225</th>\n",
       "      <td>Female</td>\n",
       "      <td>2</td>\n",
       "      <td>2</td>\n",
       "      <td>0</td>\n",
       "      <td>...</td>\n",
       "      <td>5</td>\n",
       "      <td>5</td>\n",
       "      <td>1</td>\n",
       "      <td>4</td>\n",
       "    </tr>\n",
       "  </tbody>\n",
       "</table>\n",
       "<p>226 rows × 13 columns</p>\n",
       "</div>"
      ],
      "text/plain": [
       "     gender  situation  tea  coffee  ...  raw_fruit  cooked_fruit_veg  chocol  \\\n",
       "0    Female          1    0       0  ...          1                 4       5   \n",
       "1    Female          1    1       1  ...          5                 5       1   \n",
       "2    Female          1    0       4  ...          5                 2       5   \n",
       "3    Female          1    0       0  ...          4                 0       3   \n",
       "4    Female          1    2       1  ...          5                 5       3   \n",
       "..      ...        ...  ...     ...  ...        ...               ...     ...   \n",
       "221  Female          1    0       1  ...          5                 5       1   \n",
       "222  Female          2    0       3  ...          4                 4       1   \n",
       "223    Male          2    0       2  ...          4                 4       1   \n",
       "224  Female          1    0       2  ...          3                 5       3   \n",
       "225  Female          2    2       0  ...          5                 5       1   \n",
       "\n",
       "     fat  \n",
       "0      6  \n",
       "1      4  \n",
       "2      4  \n",
       "3      2  \n",
       "4      2  \n",
       "..   ...  \n",
       "221    6  \n",
       "222    3  \n",
       "223    3  \n",
       "224    5  \n",
       "225    4  \n",
       "\n",
       "[226 rows x 13 columns]"
      ]
     },
     "execution_count": 27,
     "metadata": {},
     "output_type": "execute_result"
    }
   ],
   "source": [
    "nutri"
   ]
  },
  {
   "cell_type": "code",
   "execution_count": 28,
   "id": "d5f2e685",
   "metadata": {},
   "outputs": [
    {
     "data": {
      "text/plain": [
       "count    226.000000\n",
       "mean       3.814159\n",
       "std        1.473009\n",
       "min        1.000000\n",
       "25%        3.000000\n",
       "50%        4.000000\n",
       "75%        5.000000\n",
       "max        8.000000\n",
       "Name: fat, dtype: float64"
      ]
     },
     "execution_count": 28,
     "metadata": {},
     "output_type": "execute_result"
    }
   ],
   "source": [
    "nutri['fat'].describe()"
   ]
  },
  {
   "cell_type": "code",
   "execution_count": 29,
   "id": "cce143f2",
   "metadata": {},
   "outputs": [
    {
     "name": "stderr",
     "output_type": "stream",
     "text": [
      "C:\\Users\\VISHAL~1\\AppData\\Local\\Temp/ipykernel_40412/3102971599.py:1: FutureWarning: Dropping of nuisance columns in DataFrame reductions (with 'numeric_only=None') is deprecated; in a future version this will raise TypeError.  Select only valid columns before calling the reduction.\n",
      "  nutri.mean()\n"
     ]
    },
    {
     "data": {
      "text/plain": [
       "situation             1.606195\n",
       "tea                   0.712389\n",
       "coffee                1.619469\n",
       "height              163.960177\n",
       "weight               66.482301\n",
       "age                  74.477876\n",
       "meat                  3.747788\n",
       "fish                  2.619469\n",
       "raw_fruit             4.486726\n",
       "cooked_fruit_veg      4.384956\n",
       "chocol                2.340708\n",
       "fat                   3.814159\n",
       "dtype: float64"
      ]
     },
     "execution_count": 29,
     "metadata": {},
     "output_type": "execute_result"
    }
   ],
   "source": [
    "nutri.mean()"
   ]
  },
  {
   "cell_type": "code",
   "execution_count": 30,
   "id": "a9898615",
   "metadata": {},
   "outputs": [
    {
     "data": {
      "text/plain": [
       "3.814159292035398"
      ]
     },
     "execution_count": 30,
     "metadata": {},
     "output_type": "execute_result"
    }
   ],
   "source": [
    "nutri['fat'].mean()"
   ]
  },
  {
   "cell_type": "code",
   "execution_count": 31,
   "id": "29476553",
   "metadata": {},
   "outputs": [
    {
     "data": {
      "text/plain": [
       "1.4730085468040293"
      ]
     },
     "execution_count": 31,
     "metadata": {},
     "output_type": "execute_result"
    }
   ],
   "source": [
    "nutri['fat'].std()"
   ]
  },
  {
   "cell_type": "code",
   "execution_count": 46,
   "id": "3ea1d670",
   "metadata": {},
   "outputs": [],
   "source": [
    "DICT = {1:'butter', 2:'margarine', 3:'peanut', 4:'sunflower', 5:'olive', 6:'Isio4', 7:'colza', 8:'duck'}\n",
    "nutri.fat = nutri.fat.replace(DICT).astype('category')"
   ]
  },
  {
   "cell_type": "code",
   "execution_count": 34,
   "id": "aae745d2",
   "metadata": {},
   "outputs": [],
   "source": [
    "pd.set_option('display.max_columns', 20)"
   ]
  },
  {
   "cell_type": "code",
   "execution_count": 35,
   "id": "5a1594b0",
   "metadata": {},
   "outputs": [
    {
     "data": {
      "text/html": [
       "<div>\n",
       "<style scoped>\n",
       "    .dataframe tbody tr th:only-of-type {\n",
       "        vertical-align: middle;\n",
       "    }\n",
       "\n",
       "    .dataframe tbody tr th {\n",
       "        vertical-align: top;\n",
       "    }\n",
       "\n",
       "    .dataframe thead th {\n",
       "        text-align: right;\n",
       "    }\n",
       "</style>\n",
       "<table border=\"1\" class=\"dataframe\">\n",
       "  <thead>\n",
       "    <tr style=\"text-align: right;\">\n",
       "      <th></th>\n",
       "      <th>gender</th>\n",
       "      <th>situation</th>\n",
       "      <th>tea</th>\n",
       "      <th>coffee</th>\n",
       "      <th>height</th>\n",
       "      <th>weight</th>\n",
       "      <th>age</th>\n",
       "      <th>meat</th>\n",
       "      <th>fish</th>\n",
       "      <th>raw_fruit</th>\n",
       "      <th>cooked_fruit_veg</th>\n",
       "      <th>chocol</th>\n",
       "      <th>fat</th>\n",
       "    </tr>\n",
       "  </thead>\n",
       "  <tbody>\n",
       "    <tr>\n",
       "      <th>0</th>\n",
       "      <td>Female</td>\n",
       "      <td>1</td>\n",
       "      <td>0</td>\n",
       "      <td>0</td>\n",
       "      <td>151.0</td>\n",
       "      <td>58</td>\n",
       "      <td>72</td>\n",
       "      <td>4</td>\n",
       "      <td>3</td>\n",
       "      <td>1</td>\n",
       "      <td>4</td>\n",
       "      <td>5</td>\n",
       "      <td>6</td>\n",
       "    </tr>\n",
       "    <tr>\n",
       "      <th>1</th>\n",
       "      <td>Female</td>\n",
       "      <td>1</td>\n",
       "      <td>1</td>\n",
       "      <td>1</td>\n",
       "      <td>162.0</td>\n",
       "      <td>60</td>\n",
       "      <td>68</td>\n",
       "      <td>5</td>\n",
       "      <td>2</td>\n",
       "      <td>5</td>\n",
       "      <td>5</td>\n",
       "      <td>1</td>\n",
       "      <td>4</td>\n",
       "    </tr>\n",
       "    <tr>\n",
       "      <th>2</th>\n",
       "      <td>Female</td>\n",
       "      <td>1</td>\n",
       "      <td>0</td>\n",
       "      <td>4</td>\n",
       "      <td>162.0</td>\n",
       "      <td>75</td>\n",
       "      <td>78</td>\n",
       "      <td>3</td>\n",
       "      <td>1</td>\n",
       "      <td>5</td>\n",
       "      <td>2</td>\n",
       "      <td>5</td>\n",
       "      <td>4</td>\n",
       "    </tr>\n",
       "    <tr>\n",
       "      <th>3</th>\n",
       "      <td>Female</td>\n",
       "      <td>1</td>\n",
       "      <td>0</td>\n",
       "      <td>0</td>\n",
       "      <td>154.0</td>\n",
       "      <td>45</td>\n",
       "      <td>91</td>\n",
       "      <td>0</td>\n",
       "      <td>4</td>\n",
       "      <td>4</td>\n",
       "      <td>0</td>\n",
       "      <td>3</td>\n",
       "      <td>2</td>\n",
       "    </tr>\n",
       "    <tr>\n",
       "      <th>4</th>\n",
       "      <td>Female</td>\n",
       "      <td>1</td>\n",
       "      <td>2</td>\n",
       "      <td>1</td>\n",
       "      <td>154.0</td>\n",
       "      <td>50</td>\n",
       "      <td>65</td>\n",
       "      <td>5</td>\n",
       "      <td>3</td>\n",
       "      <td>5</td>\n",
       "      <td>5</td>\n",
       "      <td>3</td>\n",
       "      <td>2</td>\n",
       "    </tr>\n",
       "    <tr>\n",
       "      <th>...</th>\n",
       "      <td>...</td>\n",
       "      <td>...</td>\n",
       "      <td>...</td>\n",
       "      <td>...</td>\n",
       "      <td>...</td>\n",
       "      <td>...</td>\n",
       "      <td>...</td>\n",
       "      <td>...</td>\n",
       "      <td>...</td>\n",
       "      <td>...</td>\n",
       "      <td>...</td>\n",
       "      <td>...</td>\n",
       "      <td>...</td>\n",
       "    </tr>\n",
       "    <tr>\n",
       "      <th>221</th>\n",
       "      <td>Female</td>\n",
       "      <td>1</td>\n",
       "      <td>0</td>\n",
       "      <td>1</td>\n",
       "      <td>160.0</td>\n",
       "      <td>73</td>\n",
       "      <td>74</td>\n",
       "      <td>4</td>\n",
       "      <td>3</td>\n",
       "      <td>5</td>\n",
       "      <td>5</td>\n",
       "      <td>1</td>\n",
       "      <td>6</td>\n",
       "    </tr>\n",
       "    <tr>\n",
       "      <th>222</th>\n",
       "      <td>Female</td>\n",
       "      <td>2</td>\n",
       "      <td>0</td>\n",
       "      <td>3</td>\n",
       "      <td>163.0</td>\n",
       "      <td>62</td>\n",
       "      <td>68</td>\n",
       "      <td>4</td>\n",
       "      <td>3</td>\n",
       "      <td>4</td>\n",
       "      <td>4</td>\n",
       "      <td>1</td>\n",
       "      <td>3</td>\n",
       "    </tr>\n",
       "    <tr>\n",
       "      <th>223</th>\n",
       "      <td>Male</td>\n",
       "      <td>2</td>\n",
       "      <td>0</td>\n",
       "      <td>2</td>\n",
       "      <td>170.0</td>\n",
       "      <td>74</td>\n",
       "      <td>71</td>\n",
       "      <td>4</td>\n",
       "      <td>3</td>\n",
       "      <td>4</td>\n",
       "      <td>4</td>\n",
       "      <td>1</td>\n",
       "      <td>3</td>\n",
       "    </tr>\n",
       "    <tr>\n",
       "      <th>224</th>\n",
       "      <td>Female</td>\n",
       "      <td>1</td>\n",
       "      <td>0</td>\n",
       "      <td>2</td>\n",
       "      <td>154.0</td>\n",
       "      <td>45</td>\n",
       "      <td>77</td>\n",
       "      <td>4</td>\n",
       "      <td>3</td>\n",
       "      <td>3</td>\n",
       "      <td>5</td>\n",
       "      <td>3</td>\n",
       "      <td>5</td>\n",
       "    </tr>\n",
       "    <tr>\n",
       "      <th>225</th>\n",
       "      <td>Female</td>\n",
       "      <td>2</td>\n",
       "      <td>2</td>\n",
       "      <td>0</td>\n",
       "      <td>159.0</td>\n",
       "      <td>63</td>\n",
       "      <td>69</td>\n",
       "      <td>3</td>\n",
       "      <td>3</td>\n",
       "      <td>5</td>\n",
       "      <td>5</td>\n",
       "      <td>1</td>\n",
       "      <td>4</td>\n",
       "    </tr>\n",
       "  </tbody>\n",
       "</table>\n",
       "<p>226 rows × 13 columns</p>\n",
       "</div>"
      ],
      "text/plain": [
       "     gender  situation  tea  coffee  height  weight  age  meat  fish  \\\n",
       "0    Female          1    0       0   151.0      58   72     4     3   \n",
       "1    Female          1    1       1   162.0      60   68     5     2   \n",
       "2    Female          1    0       4   162.0      75   78     3     1   \n",
       "3    Female          1    0       0   154.0      45   91     0     4   \n",
       "4    Female          1    2       1   154.0      50   65     5     3   \n",
       "..      ...        ...  ...     ...     ...     ...  ...   ...   ...   \n",
       "221  Female          1    0       1   160.0      73   74     4     3   \n",
       "222  Female          2    0       3   163.0      62   68     4     3   \n",
       "223    Male          2    0       2   170.0      74   71     4     3   \n",
       "224  Female          1    0       2   154.0      45   77     4     3   \n",
       "225  Female          2    2       0   159.0      63   69     3     3   \n",
       "\n",
       "     raw_fruit  cooked_fruit_veg  chocol  fat  \n",
       "0            1                 4       5    6  \n",
       "1            5                 5       1    4  \n",
       "2            5                 2       5    4  \n",
       "3            4                 0       3    2  \n",
       "4            5                 5       3    2  \n",
       "..         ...               ...     ...  ...  \n",
       "221          5                 5       1    6  \n",
       "222          4                 4       1    3  \n",
       "223          4                 4       1    3  \n",
       "224          3                 5       3    5  \n",
       "225          5                 5       1    4  \n",
       "\n",
       "[226 rows x 13 columns]"
      ]
     },
     "execution_count": 35,
     "metadata": {},
     "output_type": "execute_result"
    }
   ],
   "source": [
    "nutri"
   ]
  },
  {
   "cell_type": "code",
   "execution_count": 36,
   "id": "e92ed8d8",
   "metadata": {},
   "outputs": [
    {
     "data": {
      "text/plain": [
       "3.814159292035398"
      ]
     },
     "execution_count": 36,
     "metadata": {},
     "output_type": "execute_result"
    }
   ],
   "source": [
    "nutri.fat.mean()"
   ]
  },
  {
   "cell_type": "code",
   "execution_count": 37,
   "id": "bd11ea62",
   "metadata": {},
   "outputs": [
    {
     "data": {
      "text/plain": [
       "count    226.000000\n",
       "mean       3.814159\n",
       "std        1.473009\n",
       "min        1.000000\n",
       "25%        3.000000\n",
       "50%        4.000000\n",
       "75%        5.000000\n",
       "max        8.000000\n",
       "Name: fat, dtype: float64"
      ]
     },
     "execution_count": 37,
     "metadata": {},
     "output_type": "execute_result"
    }
   ],
   "source": [
    "nutri.fat.describe()"
   ]
  },
  {
   "cell_type": "code",
   "execution_count": 38,
   "id": "2f3b1970",
   "metadata": {},
   "outputs": [
    {
     "data": {
      "text/plain": [
       "4    68\n",
       "3    48\n",
       "5    40\n",
       "2    27\n",
       "6    23\n",
       "1    15\n",
       "8     4\n",
       "7     1\n",
       "Name: fat, dtype: int64"
      ]
     },
     "execution_count": 38,
     "metadata": {},
     "output_type": "execute_result"
    }
   ],
   "source": [
    "nutri.fat.value_counts()"
   ]
  },
  {
   "cell_type": "code",
   "execution_count": 40,
   "id": "c02d6b61",
   "metadata": {},
   "outputs": [
    {
     "data": {
      "text/html": [
       "<div>\n",
       "<style scoped>\n",
       "    .dataframe tbody tr th:only-of-type {\n",
       "        vertical-align: middle;\n",
       "    }\n",
       "\n",
       "    .dataframe tbody tr th {\n",
       "        vertical-align: top;\n",
       "    }\n",
       "\n",
       "    .dataframe thead th {\n",
       "        text-align: right;\n",
       "    }\n",
       "</style>\n",
       "<table border=\"1\" class=\"dataframe\">\n",
       "  <thead>\n",
       "    <tr style=\"text-align: right;\">\n",
       "      <th>situation</th>\n",
       "      <th>1</th>\n",
       "      <th>2</th>\n",
       "      <th>3</th>\n",
       "    </tr>\n",
       "    <tr>\n",
       "      <th>gender</th>\n",
       "      <th></th>\n",
       "      <th></th>\n",
       "      <th></th>\n",
       "    </tr>\n",
       "  </thead>\n",
       "  <tbody>\n",
       "    <tr>\n",
       "      <th>Female</th>\n",
       "      <td>78</td>\n",
       "      <td>56</td>\n",
       "      <td>7</td>\n",
       "    </tr>\n",
       "    <tr>\n",
       "      <th>Male</th>\n",
       "      <td>20</td>\n",
       "      <td>63</td>\n",
       "      <td>2</td>\n",
       "    </tr>\n",
       "  </tbody>\n",
       "</table>\n",
       "</div>"
      ],
      "text/plain": [
       "situation   1   2  3\n",
       "gender              \n",
       "Female     78  56  7\n",
       "Male       20  63  2"
      ]
     },
     "execution_count": 40,
     "metadata": {},
     "output_type": "execute_result"
    }
   ],
   "source": [
    "pd.crosstab(nutri.gender, nutri.situation)"
   ]
  },
  {
   "cell_type": "code",
   "execution_count": 45,
   "id": "4629bc0c",
   "metadata": {},
   "outputs": [
    {
     "data": {
      "text/html": [
       "<div>\n",
       "<style scoped>\n",
       "    .dataframe tbody tr th:only-of-type {\n",
       "        vertical-align: middle;\n",
       "    }\n",
       "\n",
       "    .dataframe tbody tr th {\n",
       "        vertical-align: top;\n",
       "    }\n",
       "\n",
       "    .dataframe thead th {\n",
       "        text-align: right;\n",
       "    }\n",
       "</style>\n",
       "<table border=\"1\" class=\"dataframe\">\n",
       "  <thead>\n",
       "    <tr style=\"text-align: right;\">\n",
       "      <th>situation</th>\n",
       "      <th>Couple</th>\n",
       "      <th>Family</th>\n",
       "      <th>Single</th>\n",
       "      <th>All</th>\n",
       "    </tr>\n",
       "    <tr>\n",
       "      <th>gender</th>\n",
       "      <th></th>\n",
       "      <th></th>\n",
       "      <th></th>\n",
       "      <th></th>\n",
       "    </tr>\n",
       "  </thead>\n",
       "  <tbody>\n",
       "    <tr>\n",
       "      <th>Female</th>\n",
       "      <td>56</td>\n",
       "      <td>7</td>\n",
       "      <td>78</td>\n",
       "      <td>141</td>\n",
       "    </tr>\n",
       "    <tr>\n",
       "      <th>Male</th>\n",
       "      <td>63</td>\n",
       "      <td>2</td>\n",
       "      <td>20</td>\n",
       "      <td>85</td>\n",
       "    </tr>\n",
       "    <tr>\n",
       "      <th>All</th>\n",
       "      <td>119</td>\n",
       "      <td>9</td>\n",
       "      <td>98</td>\n",
       "      <td>226</td>\n",
       "    </tr>\n",
       "  </tbody>\n",
       "</table>\n",
       "</div>"
      ],
      "text/plain": [
       "situation  Couple  Family  Single  All\n",
       "gender                                \n",
       "Female         56       7      78  141\n",
       "Male           63       2      20   85\n",
       "All           119       9      98  226"
      ]
     },
     "execution_count": 45,
     "metadata": {},
     "output_type": "execute_result"
    }
   ],
   "source": [
    "pd.crosstab(nutri.gender, nutri.situation, margins=True)"
   ]
  },
  {
   "cell_type": "code",
   "execution_count": 42,
   "id": "c3361140",
   "metadata": {},
   "outputs": [
    {
     "data": {
      "text/plain": [
       "163.96017699115043"
      ]
     },
     "execution_count": 42,
     "metadata": {},
     "output_type": "execute_result"
    }
   ],
   "source": [
    "nutri.height.mean()"
   ]
  },
  {
   "cell_type": "code",
   "execution_count": 43,
   "id": "36595b75",
   "metadata": {},
   "outputs": [],
   "source": [
    "DICT = {1:'Single', 2:'Couple', 3:'Family'}\n",
    "nutri.situation = nutri.situation.replace(DICT).astype('category')"
   ]
  },
  {
   "cell_type": "code",
   "execution_count": 44,
   "id": "a00d9a1c",
   "metadata": {},
   "outputs": [
    {
     "data": {
      "text/plain": [
       "0      Single\n",
       "1      Single\n",
       "2      Single\n",
       "3      Single\n",
       "4      Single\n",
       "        ...  \n",
       "221    Single\n",
       "222    Couple\n",
       "223    Couple\n",
       "224    Single\n",
       "225    Couple\n",
       "Name: situation, Length: 226, dtype: category\n",
       "Categories (3, object): ['Couple', 'Family', 'Single']"
      ]
     },
     "execution_count": 44,
     "metadata": {},
     "output_type": "execute_result"
    }
   ],
   "source": [
    "nutri.situation"
   ]
  },
  {
   "cell_type": "code",
   "execution_count": 47,
   "id": "c24d7e81",
   "metadata": {},
   "outputs": [
    {
     "data": {
      "text/plain": [
       "sunflower    68\n",
       "peanut       48\n",
       "olive        40\n",
       "margarine    27\n",
       "Isio4        23\n",
       "butter       15\n",
       "duck          4\n",
       "colza         1\n",
       "Name: fat, dtype: int64"
      ]
     },
     "execution_count": 47,
     "metadata": {},
     "output_type": "execute_result"
    }
   ],
   "source": [
    "nutri.fat.value_counts()"
   ]
  },
  {
   "cell_type": "code",
   "execution_count": 48,
   "id": "99df9bfc",
   "metadata": {},
   "outputs": [
    {
     "data": {
      "text/plain": [
       "163.96017699115043"
      ]
     },
     "execution_count": 48,
     "metadata": {},
     "output_type": "execute_result"
    }
   ],
   "source": [
    "nutri.height.mean()"
   ]
  },
  {
   "cell_type": "code",
   "execution_count": 49,
   "id": "4a4a1660",
   "metadata": {},
   "outputs": [
    {
     "data": {
      "text/plain": [
       "0.25    157.0\n",
       "0.50    163.0\n",
       "0.75    170.0\n",
       "Name: height, dtype: float64"
      ]
     },
     "execution_count": 49,
     "metadata": {},
     "output_type": "execute_result"
    }
   ],
   "source": [
    "nutri.height.quantile(q=[0.25, 0.5, 0.75])"
   ]
  },
  {
   "cell_type": "code",
   "execution_count": 50,
   "id": "a3d375f2",
   "metadata": {},
   "outputs": [
    {
     "data": {
      "text/plain": [
       "48.0"
      ]
     },
     "execution_count": 50,
     "metadata": {},
     "output_type": "execute_result"
    }
   ],
   "source": [
    "nutri.height.max() - nutri.height.min()"
   ]
  },
  {
   "cell_type": "code",
   "execution_count": 51,
   "id": "2878101a",
   "metadata": {},
   "outputs": [
    {
     "data": {
      "text/plain": [
       "81.0606293018683"
      ]
     },
     "execution_count": 51,
     "metadata": {},
     "output_type": "execute_result"
    }
   ],
   "source": [
    "nutri.height.var()"
   ]
  },
  {
   "cell_type": "code",
   "execution_count": 53,
   "id": "3dfc2f42",
   "metadata": {},
   "outputs": [
    {
     "data": {
      "text/plain": [
       "81.06"
      ]
     },
     "execution_count": 53,
     "metadata": {},
     "output_type": "execute_result"
    }
   ],
   "source": [
    "round(nutri.height.var(), 2)"
   ]
  },
  {
   "cell_type": "raw",
   "id": "5c3b2873",
   "metadata": {},
   "source": [
    "round(nutri.height.std(), 2)"
   ]
  },
  {
   "cell_type": "code",
   "execution_count": 54,
   "id": "d8eebc96",
   "metadata": {},
   "outputs": [
    {
     "data": {
      "text/plain": [
       "9.0"
      ]
     },
     "execution_count": 54,
     "metadata": {},
     "output_type": "execute_result"
    }
   ],
   "source": [
    "round(nutri.height.std(), 2)"
   ]
  },
  {
   "cell_type": "code",
   "execution_count": 55,
   "id": "762ec191",
   "metadata": {},
   "outputs": [
    {
     "data": {
      "text/plain": [
       "count           226\n",
       "unique            8\n",
       "top       sunflower\n",
       "freq             68\n",
       "Name: fat, dtype: object"
      ]
     },
     "execution_count": 55,
     "metadata": {},
     "output_type": "execute_result"
    }
   ],
   "source": [
    "nutri.fat.describe()"
   ]
  },
  {
   "cell_type": "code",
   "execution_count": 56,
   "id": "2d644d21",
   "metadata": {},
   "outputs": [
    {
     "data": {
      "text/plain": [
       "count    226.000000\n",
       "mean     163.960177\n",
       "std        9.003368\n",
       "min      140.000000\n",
       "25%      157.000000\n",
       "50%      163.000000\n",
       "75%      170.000000\n",
       "max      188.000000\n",
       "Name: height, dtype: float64"
      ]
     },
     "execution_count": 56,
     "metadata": {},
     "output_type": "execute_result"
    }
   ],
   "source": [
    "nutri.height.describe()"
   ]
  },
  {
   "cell_type": "code",
   "execution_count": 57,
   "id": "135de286",
   "metadata": {},
   "outputs": [],
   "source": [
    "import matplotlib.pyplot as plt\n",
    "import pandas as pd\n",
    "import numpy as np"
   ]
  },
  {
   "cell_type": "code",
   "execution_count": 75,
   "id": "e97c0928",
   "metadata": {},
   "outputs": [
    {
     "data": {
      "image/png": "[encoded data removed]",
      "text/plain": [
       "<Figure size 432x288 with 1 Axes>"
      ]
     },
     "metadata": {
      "needs_background": "light"
     },
     "output_type": "display_data"
    }
   ],
   "source": [
    "width = 0.35 # width of the bars\n",
    "x = [0, 0.5, 1] # the bar positions on the x-axis\n",
    "\n",
    "situation_counts = nutri.situation.value_counts()\n",
    "plt.bar(x, situation_counts, width, edgecolor = 'red')\n",
    "plt.xticks(x, situation_counts.index)\n",
    "plt.show()"
   ]
  },
  {
   "cell_type": "code",
   "execution_count": 76,
   "id": "39d2e880",
   "metadata": {},
   "outputs": [
    {
     "data": {
      "text/plain": [
       "1"
      ]
     },
     "execution_count": 76,
     "metadata": {},
     "output_type": "execute_result"
    }
   ],
   "source": [
    "a = 1\n",
    "a"
   ]
  },
  {
   "cell_type": "code",
   "execution_count": 78,
   "id": "339fbc8d",
   "metadata": {},
   "outputs": [
    {
     "data": {
      "image/png": "[encoded data removed]",
      "text/plain": [
       "<Figure size 432x288 with 1 Axes>"
      ]
     },
     "metadata": {
      "needs_background": "light"
     },
     "output_type": "display_data"
    }
   ],
   "source": [
    "plt.boxplot(nutri.age, widths = width, vert = False)\n",
    "plt.xlabel('age')\n",
    "plt.show()"
   ]
  },
  {
   "cell_type": "code",
   "execution_count": 81,
   "id": "d3f387aa",
   "metadata": {},
   "outputs": [
    {
     "data": {
      "image/png": "[encoded data removed]",
      "text/plain": [
       "<Figure size 432x288 with 1 Axes>"
      ]
     },
     "metadata": {
      "needs_background": "light"
     },
     "output_type": "display_data"
    }
   ],
   "source": [
    "weights = np.ones_like(nutri.age) / nutri.age.count()\n",
    "plt.hist(nutri.age, bins = 9, weights = weights, facecolor = 'red', \n",
    "        edgecolor = 'black', linewidth = 1)\n",
    "plt.xlabel('age')\n",
    "plt.ylabel('Proportion of Total')\n",
    "plt.show()"
   ]
  },
  {
   "cell_type": "code",
   "execution_count": 83,
   "id": "fce1c6ef",
   "metadata": {},
   "outputs": [
    {
     "data": {
      "image/png": "[encoded data removed]",
      "text/plain": [
       "<Figure size 432x288 with 1 Axes>"
      ]
     },
     "metadata": {
      "needs_background": "light"
     },
     "output_type": "display_data"
    }
   ],
   "source": [
    "x = np.sort(nutri.age)\n",
    "y = np.linspace(0, 1, len(nutri.age))\n",
    "plt.xlabel('age')\n",
    "plt.ylabel('Fn(x)')\n",
    "plt.step(x, y)\n",
    "plt.xlim(x.min(), x.max())\n",
    "plt.show()"
   ]
  },
  {
   "cell_type": "code",
   "execution_count": 84,
   "id": "15451eea",
   "metadata": {},
   "outputs": [],
   "source": [
    "import seaborn as sns"
   ]
  },
  {
   "cell_type": "code",
   "execution_count": 86,
   "id": "f7d9049f",
   "metadata": {},
   "outputs": [
    {
     "data": {
      "image/png": "[encoded data removed]",
      "text/plain": [
       "<Figure size 432x288 with 1 Axes>"
      ]
     },
     "metadata": {
      "needs_background": "light"
     },
     "output_type": "display_data"
    }
   ],
   "source": [
    "sns.countplot(x = 'situation', hue = 'gender', data = nutri,\n",
    "             hue_order = ['Male', 'Female'], palette = ['Grey', 'Blue'],\n",
    "             saturation = 1, edgecolor = 'red')\n",
    "plt.legend(loc = 'upper center')\n",
    "plt.xlabel('')\n",
    "plt.ylabel('counts')\n",
    "plt.show()"
   ]
  },
  {
   "cell_type": "code",
   "execution_count": 92,
   "id": "20fb81ab",
   "metadata": {},
   "outputs": [
    {
     "data": {
      "image/png": "[encoded data removed]",
      "text/plain": [
       "<Figure size 432x288 with 1 Axes>"
      ]
     },
     "metadata": {
      "needs_background": "light"
     },
     "output_type": "display_data"
    }
   ],
   "source": [
    "plt.scatter(nutri.height, nutri.weight, s = 12, marker = 'o')\n",
    "plt.xlabel('height')\n",
    "plt.ylabel('weight')\n",
    "plt.show()"
   ]
  },
  {
   "cell_type": "code",
   "execution_count": 14,
   "id": "6955434c",
   "metadata": {},
   "outputs": [
    {
     "name": "stderr",
     "output_type": "stream",
     "text": [
      "C:\\Users\\VISHAL~1\\AppData\\Local\\Temp/ipykernel_39052/468030902.py:8: FutureWarning: In a future version of pandas all arguments of DataFrame.drop except for the argument 'labels' will be keyword-only\n",
      "  bwt = bwt.drop('Unnamed: 0', 1) # drop unnamed column\n"
     ]
    },
    {
     "data": {
      "image/png": "[encoded data removed]",
      "text/plain": [
       "<Figure size 432x288 with 1 Axes>"
      ]
     },
     "metadata": {
      "needs_background": "light"
     },
     "output_type": "display_data"
    }
   ],
   "source": [
    "import pandas as pd\n",
    "import seaborn as sns\n",
    "import numpy as np\n",
    "import matplotlib.pyplot as plt\n",
    "urlprefix = 'https://vincentarelbundock.github.io/Rdatasets/csv/'\n",
    "dataname = 'MASS/birthwt.csv'\n",
    "bwt = pd.read_csv(urlprefix + dataname)\n",
    "bwt = bwt.drop('Unnamed: 0', 1) # drop unnamed column\n",
    "styles = {0: ['.', 'red'], 1: ['^', 'blue']}\n",
    "for k in styles:\n",
    "    grp = bwt[bwt.smoke==k]\n",
    "    m,b = np.polyfit(grp.age, grp.bwt, 1) # fit a straight line\n",
    "    plt.scatter(grp.age, grp.bwt, c = styles[k][1], s = 15, linewidth = 0,\n",
    "               marker = styles[k][0])\n",
    "    plt.plot(grp.age, m * grp.age + b, '-', color = styles[k][1])\n",
    "    \n",
    "plt.xlabel('age')\n",
    "plt.ylabel('birth weight (g)')\n",
    "plt.legend(['non-smokers', 'smokers'], prop = {'size': 8},\n",
    "          loc = (0.5, 0.8))\n",
    "plt.show()"
   ]
  },
  {
   "cell_type": "markdown",
   "id": "a7104122",
   "metadata": {},
   "source": []
  },
  {
   "cell_type": "code",
   "execution_count": 16,
   "id": "898c5862",
   "metadata": {},
   "outputs": [],
   "source": [
    "nutri = pd.read_csv('nutri.csv')"
   ]
  },
  {
   "cell_type": "code",
   "execution_count": 17,
   "id": "ca457e1b",
   "metadata": {},
   "outputs": [
    {
     "data": {
      "image/png": "[encoded data removed]",
      "text/plain": [
       "<Figure size 432x288 with 1 Axes>"
      ]
     },
     "metadata": {
      "needs_background": "light"
     },
     "output_type": "display_data"
    }
   ],
   "source": [
    "males = nutri[nutri.gender == 'Male']\n",
    "females = nutri[nutri.gender == 'Female']\n",
    "plt.boxplot([males.coffee, females.coffee], notch = True, widths = (0.5, 0.5))\n",
    "plt.xlabel('gender')\n",
    "plt.ylabel('coffee')\n",
    "plt.xticks([1, 2], ['Male', 'Female'])\n",
    "plt.show()"
   ]
  },
  {
   "cell_type": "markdown",
   "id": "94e0f9f8",
   "metadata": {},
   "source": [
    "# K-Means Clustering"
   ]
  },
  {
   "cell_type": "code",
   "execution_count": 1,
   "id": "e62cf551",
   "metadata": {},
   "outputs": [],
   "source": [
    "import pandas as pd\n",
    "import matplotlib.pyplot as plt\n",
    "import numpy as np"
   ]
  },
  {
   "cell_type": "code",
   "execution_count": 5,
   "id": "fe666f25",
   "metadata": {},
   "outputs": [],
   "source": [
    "hw = pd.read_csv('heightWeightData.csv', header=None)"
   ]
  },
  {
   "cell_type": "code",
   "execution_count": 6,
   "id": "7ce8f702",
   "metadata": {},
   "outputs": [
    {
     "data": {
      "text/html": [
       "<div>\n",
       "<style scoped>\n",
       "    .dataframe tbody tr th:only-of-type {\n",
       "        vertical-align: middle;\n",
       "    }\n",
       "\n",
       "    .dataframe tbody tr th {\n",
       "        vertical-align: top;\n",
       "    }\n",
       "\n",
       "    .dataframe thead th {\n",
       "        text-align: right;\n",
       "    }\n",
       "</style>\n",
       "<table border=\"1\" class=\"dataframe\">\n",
       "  <thead>\n",
       "    <tr style=\"text-align: right;\">\n",
       "      <th></th>\n",
       "      <th>0</th>\n",
       "      <th>1</th>\n",
       "      <th>2</th>\n",
       "    </tr>\n",
       "  </thead>\n",
       "  <tbody>\n",
       "    <tr>\n",
       "      <th>0</th>\n",
       "      <td>1</td>\n",
       "      <td>67</td>\n",
       "      <td>125</td>\n",
       "    </tr>\n",
       "    <tr>\n",
       "      <th>1</th>\n",
       "      <td>2</td>\n",
       "      <td>68</td>\n",
       "      <td>140</td>\n",
       "    </tr>\n",
       "    <tr>\n",
       "      <th>2</th>\n",
       "      <td>2</td>\n",
       "      <td>67</td>\n",
       "      <td>142</td>\n",
       "    </tr>\n",
       "    <tr>\n",
       "      <th>3</th>\n",
       "      <td>2</td>\n",
       "      <td>60</td>\n",
       "      <td>110</td>\n",
       "    </tr>\n",
       "    <tr>\n",
       "      <th>4</th>\n",
       "      <td>2</td>\n",
       "      <td>64</td>\n",
       "      <td>97</td>\n",
       "    </tr>\n",
       "    <tr>\n",
       "      <th>...</th>\n",
       "      <td>...</td>\n",
       "      <td>...</td>\n",
       "      <td>...</td>\n",
       "    </tr>\n",
       "    <tr>\n",
       "      <th>205</th>\n",
       "      <td>1</td>\n",
       "      <td>79</td>\n",
       "      <td>165</td>\n",
       "    </tr>\n",
       "    <tr>\n",
       "      <th>206</th>\n",
       "      <td>1</td>\n",
       "      <td>75</td>\n",
       "      <td>160</td>\n",
       "    </tr>\n",
       "    <tr>\n",
       "      <th>207</th>\n",
       "      <td>1</td>\n",
       "      <td>71</td>\n",
       "      <td>170</td>\n",
       "    </tr>\n",
       "    <tr>\n",
       "      <th>208</th>\n",
       "      <td>2</td>\n",
       "      <td>65</td>\n",
       "      <td>117</td>\n",
       "    </tr>\n",
       "    <tr>\n",
       "      <th>209</th>\n",
       "      <td>1</td>\n",
       "      <td>70</td>\n",
       "      <td>185</td>\n",
       "    </tr>\n",
       "  </tbody>\n",
       "</table>\n",
       "<p>210 rows × 3 columns</p>\n",
       "</div>"
      ],
      "text/plain": [
       "     0   1    2\n",
       "0    1  67  125\n",
       "1    2  68  140\n",
       "2    2  67  142\n",
       "3    2  60  110\n",
       "4    2  64   97\n",
       "..  ..  ..  ...\n",
       "205  1  79  165\n",
       "206  1  75  160\n",
       "207  1  71  170\n",
       "208  2  65  117\n",
       "209  1  70  185\n",
       "\n",
       "[210 rows x 3 columns]"
      ]
     },
     "execution_count": 6,
     "metadata": {},
     "output_type": "execute_result"
    }
   ],
   "source": [
    "hw"
   ]
  },
  {
   "cell_type": "code",
   "execution_count": 7,
   "id": "70472633",
   "metadata": {},
   "outputs": [
    {
     "data": {
      "text/plain": [
       "0      67\n",
       "1      68\n",
       "2      67\n",
       "3      60\n",
       "4      64\n",
       "       ..\n",
       "205    79\n",
       "206    75\n",
       "207    71\n",
       "208    65\n",
       "209    70\n",
       "Name: 1, Length: 210, dtype: int64"
      ]
     },
     "execution_count": 7,
     "metadata": {},
     "output_type": "execute_result"
    }
   ],
   "source": [
    "hw[1]"
   ]
  },
  {
   "cell_type": "code",
   "execution_count": 35,
   "id": "ad0c4012",
   "metadata": {},
   "outputs": [
    {
     "data": {
      "image/png": "[encoded data removed]",
      "text/plain": [
       "<Figure size 864x576 with 1 Axes>"
      ]
     },
     "metadata": {
      "needs_background": "light"
     },
     "output_type": "display_data"
    }
   ],
   "source": [
    "np.sort(hw)\n",
    "\n",
    "plt.figure(figsize=(12, 8))\n",
    "\n",
    "plt.scatter(hw[2], hw[1], s = 10, marker = 'o')\n",
    "plt.xlabel('height')\n",
    "plt.ylabel('weight')\n",
    "plt.show()"
   ]
  },
  {
   "cell_type": "code",
   "execution_count": 84,
   "id": "d2d4943d",
   "metadata": {},
   "outputs": [
    {
     "ename": "TypeError",
     "evalue": "astype() missing 1 required positional argument: 'dtype'",
     "output_type": "error",
     "traceback": [
      "\u001b[1;31m---------------------------------------------------------------------------\u001b[0m",
      "\u001b[1;31mTypeError\u001b[0m                                 Traceback (most recent call last)",
      "\u001b[1;32mC:\\Users\\VISHAL~1\\AppData\\Local\\Temp/ipykernel_20896/3665329120.py\u001b[0m in \u001b[0;36m<module>\u001b[1;34m\u001b[0m\n\u001b[1;32m----> 1\u001b[1;33m \u001b[0mhw\u001b[0m\u001b[1;33m[\u001b[0m\u001b[1;36m1\u001b[0m\u001b[1;33m]\u001b[0m\u001b[1;33m.\u001b[0m\u001b[0mastype\u001b[0m\u001b[1;33m(\u001b[0m\u001b[1;33m)\u001b[0m\u001b[1;33m\u001b[0m\u001b[1;33m\u001b[0m\u001b[0m\n\u001b[0m",
      "\u001b[1;31mTypeError\u001b[0m: astype() missing 1 required positional argument: 'dtype'"
     ]
    }
   ],
   "source": []
  },
  {
   "cell_type": "code",
   "execution_count": 85,
   "id": "82f00f21",
   "metadata": {},
   "outputs": [
    {
     "name": "stderr",
     "output_type": "stream",
     "text": [
      "C:\\ProgramData\\Anaconda3\\lib\\site-packages\\sklearn\\cluster\\_kmeans.py:881: UserWarning: KMeans is known to have a memory leak on Windows with MKL, when there are less chunks than available threads. You can avoid it by setting the environment variable OMP_NUM_THREADS=1.\n",
      "  warnings.warn(\n"
     ]
    },
    {
     "data": {
      "image/png": "[encoded data removed]",
      "text/plain": [
       "<Figure size 432x288 with 1 Axes>"
      ]
     },
     "metadata": {
      "needs_background": "light"
     },
     "output_type": "display_data"
    }
   ],
   "source": [
    "import sklearn\n",
    "from sklearn.cluster import KMeans\n",
    "\n",
    "sum_of_squared_distances = []\n",
    "K = range(1, 10)\n",
    "for i in K:\n",
    "    k_means = KMeans(n_clusters = i)\n",
    "    k_means.fit(hw)\n",
    "    wss = k_means.inertia_\n",
    "    sum_of_squared_distances.append(wss)\n",
    "\n",
    "plt.plot(K, sum_of_squared_distances, 'bx-')\n",
    "plt.xlabel('Values of K')\n",
    "plt.ylabel('Sum of squared distances (Inertia)')\n",
    "plt.title('Elbow Method for optimal k')\n",
    "plt.show()"
   ]
  },
  {
   "cell_type": "code",
   "execution_count": 91,
   "id": "55c3691b",
   "metadata": {},
   "outputs": [
    {
     "data": {
      "image/png": "[encoded data removed]",
      "text/plain": [
       "<Figure size 432x288 with 1 Axes>"
      ]
     },
     "metadata": {
      "needs_background": "light"
     },
     "output_type": "display_data"
    }
   ],
   "source": [
    "import sklearn\n",
    "from sklearn.cluster import KMeans\n",
    "from sklearn.metrics import silhouette_score\n",
    "\n",
    "K = [2, 3, 4, 5, 6, 7, 8]\n",
    "sil_avg = []\n",
    "\n",
    "for i in K:\n",
    "    kmeans = KMeans(n_clusters = i)\n",
    "    kmeans.fit(hw)\n",
    "    labels = kmeans.labels_\n",
    "    sil_score = silhouette_score(hw, labels)\n",
    "    sil_avg.append(sil_score)\n",
    "\n",
    "plt.plot(K, sil_avg, 'bx-')\n",
    "plt.xlabel('Values of K')\n",
    "plt.ylabel('Silhouette score')\n",
    "plt.title('Silhouette Analysis for optimal k')\n",
    "plt.show()"
   ]
  },
  {
   "cell_type": "code",
   "execution_count": 89,
   "id": "7d331c99",
   "metadata": {},
   "outputs": [
    {
     "data": {
      "text/html": [
       "<div>\n",
       "<style scoped>\n",
       "    .dataframe tbody tr th:only-of-type {\n",
       "        vertical-align: middle;\n",
       "    }\n",
       "\n",
       "    .dataframe tbody tr th {\n",
       "        vertical-align: top;\n",
       "    }\n",
       "\n",
       "    .dataframe thead th {\n",
       "        text-align: right;\n",
       "    }\n",
       "</style>\n",
       "<table border=\"1\" class=\"dataframe\">\n",
       "  <thead>\n",
       "    <tr style=\"text-align: right;\">\n",
       "      <th></th>\n",
       "      <th>0</th>\n",
       "      <th>1</th>\n",
       "      <th>2</th>\n",
       "    </tr>\n",
       "  </thead>\n",
       "  <tbody>\n",
       "    <tr>\n",
       "      <th>0</th>\n",
       "      <td>1</td>\n",
       "      <td>67</td>\n",
       "      <td>125</td>\n",
       "    </tr>\n",
       "    <tr>\n",
       "      <th>1</th>\n",
       "      <td>2</td>\n",
       "      <td>68</td>\n",
       "      <td>140</td>\n",
       "    </tr>\n",
       "    <tr>\n",
       "      <th>2</th>\n",
       "      <td>2</td>\n",
       "      <td>67</td>\n",
       "      <td>142</td>\n",
       "    </tr>\n",
       "    <tr>\n",
       "      <th>3</th>\n",
       "      <td>2</td>\n",
       "      <td>60</td>\n",
       "      <td>110</td>\n",
       "    </tr>\n",
       "    <tr>\n",
       "      <th>4</th>\n",
       "      <td>2</td>\n",
       "      <td>64</td>\n",
       "      <td>97</td>\n",
       "    </tr>\n",
       "    <tr>\n",
       "      <th>...</th>\n",
       "      <td>...</td>\n",
       "      <td>...</td>\n",
       "      <td>...</td>\n",
       "    </tr>\n",
       "    <tr>\n",
       "      <th>205</th>\n",
       "      <td>1</td>\n",
       "      <td>79</td>\n",
       "      <td>165</td>\n",
       "    </tr>\n",
       "    <tr>\n",
       "      <th>206</th>\n",
       "      <td>1</td>\n",
       "      <td>75</td>\n",
       "      <td>160</td>\n",
       "    </tr>\n",
       "    <tr>\n",
       "      <th>207</th>\n",
       "      <td>1</td>\n",
       "      <td>71</td>\n",
       "      <td>170</td>\n",
       "    </tr>\n",
       "    <tr>\n",
       "      <th>208</th>\n",
       "      <td>2</td>\n",
       "      <td>65</td>\n",
       "      <td>117</td>\n",
       "    </tr>\n",
       "    <tr>\n",
       "      <th>209</th>\n",
       "      <td>1</td>\n",
       "      <td>70</td>\n",
       "      <td>185</td>\n",
       "    </tr>\n",
       "  </tbody>\n",
       "</table>\n",
       "<p>210 rows × 3 columns</p>\n",
       "</div>"
      ],
      "text/plain": [
       "     0   1    2\n",
       "0    1  67  125\n",
       "1    2  68  140\n",
       "2    2  67  142\n",
       "3    2  60  110\n",
       "4    2  64   97\n",
       "..  ..  ..  ...\n",
       "205  1  79  165\n",
       "206  1  75  160\n",
       "207  1  71  170\n",
       "208  2  65  117\n",
       "209  1  70  185\n",
       "\n",
       "[210 rows x 3 columns]"
      ]
     },
     "execution_count": 89,
     "metadata": {},
     "output_type": "execute_result"
    }
   ],
   "source": [
    "hw"
   ]
  },
  {
   "cell_type": "code",
   "execution_count": 92,
   "id": "cb22868e",
   "metadata": {},
   "outputs": [],
   "source": [
    "df = pd.read_csv('trialanderror.csv', header=None)"
   ]
  },
  {
   "cell_type": "code",
   "execution_count": 93,
   "id": "343d0598",
   "metadata": {},
   "outputs": [
    {
     "data": {
      "text/html": [
       "<div>\n",
       "<style scoped>\n",
       "    .dataframe tbody tr th:only-of-type {\n",
       "        vertical-align: middle;\n",
       "    }\n",
       "\n",
       "    .dataframe tbody tr th {\n",
       "        vertical-align: top;\n",
       "    }\n",
       "\n",
       "    .dataframe thead th {\n",
       "        text-align: right;\n",
       "    }\n",
       "</style>\n",
       "<table border=\"1\" class=\"dataframe\">\n",
       "  <thead>\n",
       "    <tr style=\"text-align: right;\">\n",
       "      <th></th>\n",
       "      <th>0</th>\n",
       "      <th>1</th>\n",
       "    </tr>\n",
       "  </thead>\n",
       "  <tbody>\n",
       "    <tr>\n",
       "      <th>0</th>\n",
       "      <td>67</td>\n",
       "      <td>125</td>\n",
       "    </tr>\n",
       "    <tr>\n",
       "      <th>1</th>\n",
       "      <td>68</td>\n",
       "      <td>140</td>\n",
       "    </tr>\n",
       "    <tr>\n",
       "      <th>2</th>\n",
       "      <td>67</td>\n",
       "      <td>142</td>\n",
       "    </tr>\n",
       "    <tr>\n",
       "      <th>3</th>\n",
       "      <td>60</td>\n",
       "      <td>110</td>\n",
       "    </tr>\n",
       "    <tr>\n",
       "      <th>4</th>\n",
       "      <td>64</td>\n",
       "      <td>97</td>\n",
       "    </tr>\n",
       "    <tr>\n",
       "      <th>...</th>\n",
       "      <td>...</td>\n",
       "      <td>...</td>\n",
       "    </tr>\n",
       "    <tr>\n",
       "      <th>205</th>\n",
       "      <td>79</td>\n",
       "      <td>165</td>\n",
       "    </tr>\n",
       "    <tr>\n",
       "      <th>206</th>\n",
       "      <td>75</td>\n",
       "      <td>160</td>\n",
       "    </tr>\n",
       "    <tr>\n",
       "      <th>207</th>\n",
       "      <td>71</td>\n",
       "      <td>170</td>\n",
       "    </tr>\n",
       "    <tr>\n",
       "      <th>208</th>\n",
       "      <td>65</td>\n",
       "      <td>117</td>\n",
       "    </tr>\n",
       "    <tr>\n",
       "      <th>209</th>\n",
       "      <td>70</td>\n",
       "      <td>185</td>\n",
       "    </tr>\n",
       "  </tbody>\n",
       "</table>\n",
       "<p>210 rows × 2 columns</p>\n",
       "</div>"
      ],
      "text/plain": [
       "      0    1\n",
       "0    67  125\n",
       "1    68  140\n",
       "2    67  142\n",
       "3    60  110\n",
       "4    64   97\n",
       "..   ..  ...\n",
       "205  79  165\n",
       "206  75  160\n",
       "207  71  170\n",
       "208  65  117\n",
       "209  70  185\n",
       "\n",
       "[210 rows x 2 columns]"
      ]
     },
     "execution_count": 93,
     "metadata": {},
     "output_type": "execute_result"
    }
   ],
   "source": [
    "df"
   ]
  },
  {
   "cell_type": "code",
   "execution_count": 126,
   "id": "4fdd3254",
   "metadata": {},
   "outputs": [
    {
     "name": "stderr",
     "output_type": "stream",
     "text": [
      "C:\\ProgramData\\Anaconda3\\lib\\site-packages\\sklearn\\cluster\\_kmeans.py:881: UserWarning: KMeans is known to have a memory leak on Windows with MKL, when there are less chunks than available threads. You can avoid it by setting the environment variable OMP_NUM_THREADS=1.\n",
      "  warnings.warn(\n"
     ]
    },
    {
     "data": {
      "image/png": "[encoded data removed]",
      "text/plain": [
       "<Figure size 864x576 with 1 Axes>"
      ]
     },
     "metadata": {
      "needs_background": "light"
     },
     "output_type": "display_data"
    }
   ],
   "source": [
    "import sklearn\n",
    "from sklearn.cluster import KMeans\n",
    "from sklearn.metrics import silhouette_score\n",
    "\n",
    "sum_of_squared_distances = []\n",
    "K = range(1, 10)\n",
    "for i in K:\n",
    "    k_means = KMeans(n_clusters = i)\n",
    "    k_means.fit(df)\n",
    "    wss = k_means.inertia_\n",
    "    sum_of_squared_distances.append(wss)\n",
    "\n",
    "plt.figure(figsize=(12, 8))\n",
    "plt.plot(K, sum_of_squared_distances, 'bx-')\n",
    "plt.xlabel('Values of K')\n",
    "plt.ylabel('Sum of squared distances (Inertia)')\n",
    "plt.title('Elbow Method for optimal k')\n",
    "plt.show()"
   ]
  },
  {
   "cell_type": "code",
   "execution_count": 127,
   "id": "b30b416f",
   "metadata": {},
   "outputs": [
    {
     "data": {
      "image/png": "[encoded data removed]",
      "text/plain": [
       "<Figure size 864x576 with 1 Axes>"
      ]
     },
     "metadata": {
      "needs_background": "light"
     },
     "output_type": "display_data"
    }
   ],
   "source": [
    "K = [2, 3, 4, 5, 6, 7, 8]\n",
    "sil_avg = []\n",
    "\n",
    "for i in K:\n",
    "    kmeans = KMeans(n_clusters = i)\n",
    "    kmeans.fit(df)\n",
    "    labels = kmeans.labels_\n",
    "    sil_score = silhouette_score(df, labels)\n",
    "    sil_avg.append(sil_score)\n",
    "\n",
    "plt.figure(figsize=(12, 8))\n",
    "plt.plot(K, sil_avg, 'bx-')\n",
    "plt.xlabel('Values of K')\n",
    "plt.ylabel('Silhouette score')\n",
    "plt.title('Silhouette Analysis for optimal k')\n",
    "plt.show()"
   ]
  },
  {
   "cell_type": "code",
   "execution_count": 103,
   "id": "fcd5b7e8",
   "metadata": {},
   "outputs": [],
   "source": [
    "df.columns = ['weight', 'height']"
   ]
  },
  {
   "cell_type": "code",
   "execution_count": 104,
   "id": "11a91aa2",
   "metadata": {},
   "outputs": [
    {
     "data": {
      "text/html": [
       "<div>\n",
       "<style scoped>\n",
       "    .dataframe tbody tr th:only-of-type {\n",
       "        vertical-align: middle;\n",
       "    }\n",
       "\n",
       "    .dataframe tbody tr th {\n",
       "        vertical-align: top;\n",
       "    }\n",
       "\n",
       "    .dataframe thead th {\n",
       "        text-align: right;\n",
       "    }\n",
       "</style>\n",
       "<table border=\"1\" class=\"dataframe\">\n",
       "  <thead>\n",
       "    <tr style=\"text-align: right;\">\n",
       "      <th></th>\n",
       "      <th>weight</th>\n",
       "      <th>height</th>\n",
       "    </tr>\n",
       "  </thead>\n",
       "  <tbody>\n",
       "    <tr>\n",
       "      <th>0</th>\n",
       "      <td>67</td>\n",
       "      <td>125</td>\n",
       "    </tr>\n",
       "    <tr>\n",
       "      <th>1</th>\n",
       "      <td>68</td>\n",
       "      <td>140</td>\n",
       "    </tr>\n",
       "    <tr>\n",
       "      <th>2</th>\n",
       "      <td>67</td>\n",
       "      <td>142</td>\n",
       "    </tr>\n",
       "    <tr>\n",
       "      <th>3</th>\n",
       "      <td>60</td>\n",
       "      <td>110</td>\n",
       "    </tr>\n",
       "    <tr>\n",
       "      <th>4</th>\n",
       "      <td>64</td>\n",
       "      <td>97</td>\n",
       "    </tr>\n",
       "    <tr>\n",
       "      <th>...</th>\n",
       "      <td>...</td>\n",
       "      <td>...</td>\n",
       "    </tr>\n",
       "    <tr>\n",
       "      <th>205</th>\n",
       "      <td>79</td>\n",
       "      <td>165</td>\n",
       "    </tr>\n",
       "    <tr>\n",
       "      <th>206</th>\n",
       "      <td>75</td>\n",
       "      <td>160</td>\n",
       "    </tr>\n",
       "    <tr>\n",
       "      <th>207</th>\n",
       "      <td>71</td>\n",
       "      <td>170</td>\n",
       "    </tr>\n",
       "    <tr>\n",
       "      <th>208</th>\n",
       "      <td>65</td>\n",
       "      <td>117</td>\n",
       "    </tr>\n",
       "    <tr>\n",
       "      <th>209</th>\n",
       "      <td>70</td>\n",
       "      <td>185</td>\n",
       "    </tr>\n",
       "  </tbody>\n",
       "</table>\n",
       "<p>210 rows × 2 columns</p>\n",
       "</div>"
      ],
      "text/plain": [
       "     weight  height\n",
       "0        67     125\n",
       "1        68     140\n",
       "2        67     142\n",
       "3        60     110\n",
       "4        64      97\n",
       "..      ...     ...\n",
       "205      79     165\n",
       "206      75     160\n",
       "207      71     170\n",
       "208      65     117\n",
       "209      70     185\n",
       "\n",
       "[210 rows x 2 columns]"
      ]
     },
     "execution_count": 104,
     "metadata": {},
     "output_type": "execute_result"
    }
   ],
   "source": [
    "df"
   ]
  },
  {
   "cell_type": "code",
   "execution_count": 111,
   "id": "cce1fc43",
   "metadata": {},
   "outputs": [],
   "source": [
    "df_min_height = df.height.min()\n",
    "df_min_weight = df.weight.min()\n",
    "\n",
    "df_max_height = df.height.max()\n",
    "df_max_weight = df.weight.max()"
   ]
  },
  {
   "cell_type": "code",
   "execution_count": 112,
   "id": "68d43cb1",
   "metadata": {},
   "outputs": [
    {
     "data": {
      "text/plain": [
       "280"
      ]
     },
     "execution_count": 112,
     "metadata": {},
     "output_type": "execute_result"
    }
   ],
   "source": [
    "df_max_height"
   ]
  },
  {
   "cell_type": "code",
   "execution_count": 113,
   "id": "4821fb4d",
   "metadata": {},
   "outputs": [
    {
     "data": {
      "text/plain": [
       "79"
      ]
     },
     "execution_count": 113,
     "metadata": {},
     "output_type": "execute_result"
    }
   ],
   "source": [
    "df_max_weight"
   ]
  },
  {
   "cell_type": "code",
   "execution_count": 145,
   "id": "2d86eff4",
   "metadata": {},
   "outputs": [
    {
     "name": "stdout",
     "output_type": "stream",
     "text": [
      "[(248.66952409390046, 56.288239329544496), (97.77391358133698, 69.92578279208894)]\n"
     ]
    }
   ],
   "source": [
    "centroids = []\n",
    "for i in (1, 2):\n",
    "    centroid_h = np.random.uniform(df_min_height, df_max_height)\n",
    "    centroid_w = np.random.uniform(df_min_weight, df_max_weight)\n",
    "    centroids.append((centroid_h, centroid_w))\n",
    "print(centroids)"
   ]
  },
  {
   "cell_type": "code",
   "execution_count": 241,
   "id": "2aab50c9",
   "metadata": {},
   "outputs": [
    {
     "data": {
      "image/png": "[encoded data removed]",
      "text/plain": [
       "<Figure size 864x576 with 1 Axes>"
      ]
     },
     "metadata": {
      "needs_background": "light"
     },
     "output_type": "display_data"
    }
   ],
   "source": [
    "c1 = centroids[0]\n",
    "c2 = centroids[1]\n",
    "plt.figure(figsize=(12, 8))\n",
    "plt.scatter(df.height, df.weight, s = 10, marker = 'o')\n",
    "plt.scatter(c1[0], c1[1], s = 100, marker = 'x', color = 'blue')\n",
    "plt.scatter(c2[0], c2[1], s = 100, marker = 'x', color = 'red')\n",
    "plt.xlabel('height')\n",
    "plt.ylabel('weight')\n",
    "plt.show()"
   ]
  },
  {
   "cell_type": "code",
   "execution_count": 147,
   "id": "135045d4",
   "metadata": {},
   "outputs": [],
   "source": [
    "# kmeans++ can also be used"
   ]
  },
  {
   "cell_type": "code",
   "execution_count": 242,
   "id": "35fe944c",
   "metadata": {},
   "outputs": [
    {
     "name": "stdout",
     "output_type": "stream",
     "text": [
      "[(125, 67), (140, 68), (142, 67), (110, 60), (97, 64), (106, 61), (210, 79), (110, 61), (150, 71), (145, 66), (113, 60), (175, 71), (145, 72), (110, 55), (112, 64), (135, 65), (135, 65), (140, 71), (130, 68), (152, 71), (127, 67), (143, 70), (165, 68), (160, 72), (185, 71), (114, 65), (116, 67), (113, 66), (145, 63), (116, 62), (155, 71), (107, 64), (104, 64), (137, 69), (200, 75), (150, 65), (140, 67), (125, 65), (240, 75), (140, 57), (135, 68), (178, 73), (122, 68), (145, 62), (190, 68), (180, 74), (125, 63), (165, 73), (115, 66), (125, 68), (210, 72), (118, 63), (135, 65), (225, 75), (145, 69), (240, 72), (170, 69), (105, 62), (125, 64), (130, 63), (190, 78), (115, 63), (280, 73), (125, 69), (120, 63), (145, 63), (132, 63), (195, 70), (168, 69), (105, 61), (112, 65), (215, 72), (150, 69), (150, 70), (125, 67), (135, 64), (185, 70), (127, 71), (178, 72), (123, 66), (145, 66), (135, 71), (135, 68), (145, 67), (145, 67), (193, 69), (125, 66), (148, 71), (125, 65), (120, 62), (119, 65), (160, 68), (140, 67), (115, 63), (125, 64), (95, 61), (126, 62), (165, 63), (167, 70), (250, 73), (280, 74), (180, 79), (175, 71), (120, 63), (125, 73), (156, 70), (185, 75), (130, 62), (140, 67), (120, 65), (140, 66), (155, 69), (105, 60), (125, 67), (115, 65), (130, 66), (170, 69), (247, 73), (172, 74), (147, 65), (140, 62), (120, 64), (110, 63), (115, 65), (115, 61), (165, 73), (180, 74), (182, 72), (130, 65), (160, 73), (190, 74), (180, 75), (165, 70), (140, 62), (165, 68), (125, 57), (160, 72), (128, 66), (115, 65), (135, 63), (118, 66), (130, 74), (130, 64), (140, 67), (174, 71), (118, 60), (133, 65), (107, 62), (145, 64), (150, 66), (165, 71), (143, 69), (155, 70), (138, 64), (147, 62), (245, 77), (130, 62), (135, 69), (150, 70), (135, 71), (160, 72), (110, 68), (155, 69), (96, 63), (140, 65), (120, 67), (130, 67), (155, 73), (105, 63), (160, 73), (112, 63), (125, 68), (132, 69), (175, 69), (150, 63), (105, 64), (135, 69), (134, 63), (115, 64), (123, 63), (170, 67), (162, 71), (140, 68), (115, 64), (205, 73), (130, 68), (145, 67), (125, 61), (180, 69), (135, 66), (140, 64), (185, 76), (135, 64), (127, 63), (115, 62), (135, 62), (142, 71), (140, 67), (135, 68), (178, 71), (135, 67), (127, 64), (153, 70), (110, 62), (165, 73), (165, 79), (160, 75), (170, 71), (117, 65), (185, 70)] 210\n"
     ]
    }
   ],
   "source": [
    "data_points = []\n",
    "for i in range(210):\n",
    "    x, y = df.height[i], df.weight[i]\n",
    "    data_points.append((x, y))\n",
    "print(data_points, len(data_points))"
   ]
  },
  {
   "cell_type": "code",
   "execution_count": 243,
   "id": "9be3f00f",
   "metadata": {},
   "outputs": [],
   "source": [
    "import math"
   ]
  },
  {
   "cell_type": "markdown",
   "id": "7b00785e",
   "metadata": {},
   "source": [
    "# 1st iteration"
   ]
  },
  {
   "cell_type": "code",
   "execution_count": 244,
   "id": "cd891e9b",
   "metadata": {},
   "outputs": [
    {
     "name": "stdout",
     "output_type": "stream",
     "text": [
      "(248.66952409390046, 56.288239329544496)\n",
      "(97.77391358133698, 69.92578279208894)\n"
     ]
    }
   ],
   "source": [
    "print(c1)\n",
    "print(c2)"
   ]
  },
  {
   "cell_type": "code",
   "execution_count": 245,
   "id": "7a490791",
   "metadata": {},
   "outputs": [
    {
     "data": {
      "image/png": "[encoded data removed]",
      "text/plain": [
       "<Figure size 864x576 with 1 Axes>"
      ]
     },
     "metadata": {
      "needs_background": "light"
     },
     "output_type": "display_data"
    }
   ],
   "source": [
    "# calculating the nearest points to the clusters and separating them by colour\n",
    "\n",
    "closest_to_c1 = []\n",
    "closest_to_c2 = []\n",
    "\n",
    "for i in data_points:\n",
    "    dist_to_c1 = math.dist(c1, i)\n",
    "    dist_to_c2 = math.dist(c2, i)\n",
    "    \n",
    "    if dist_to_c1 <= dist_to_c2:\n",
    "        closest_to_c1.append(i)\n",
    "    else:\n",
    "        closest_to_c2.append(i)\n",
    "\n",
    "# print(closest_to_c1, len(closest_to_c1))\n",
    "# print(closest_to_c2, len(closest_to_c2))\n",
    "\n",
    "plt.figure(figsize=(12, 8))\n",
    "\n",
    "height_c1 = [x[0] for x in closest_to_c1]\n",
    "weight_c1 = [x[1] for x in closest_to_c1]\n",
    "\n",
    "height_c2 = [x[0] for x in closest_to_c2]\n",
    "weight_c2 = [x[1] for x in closest_to_c2]\n",
    "\n",
    "plt.scatter(height_c1, weight_c1, s = 10, marker = 'o', color = 'blue')\n",
    "plt.scatter(height_c2, weight_c2, s = 10, marker = 'o', color = 'red')\n",
    "\n",
    "plt.scatter(c1[0], c1[1], s = 100, marker = 'x', color = 'blue')\n",
    "plt.scatter(c2[0], c2[1], s = 100, marker = 'x', color = 'red')\n",
    "plt.xlabel('height')\n",
    "plt.ylabel('weight')\n",
    "plt.show()"
   ]
  },
  {
   "cell_type": "code",
   "execution_count": 246,
   "id": "72f8320a",
   "metadata": {},
   "outputs": [],
   "source": [
    "# calculating the mean of the red and blue clusters respectively\n",
    "\n",
    "# mean of data points closest to c1\n",
    "c1_len = len(closest_to_c1)\n",
    "x_sum = 0\n",
    "y_sum = 0\n",
    "\n",
    "for i in closest_to_c1:\n",
    "    x_sum += i[0]\n",
    "    y_sum += i[1]\n",
    "\n",
    "x_mean = x_sum / c1_len\n",
    "y_mean = y_sum / c1_len\n",
    "c1 = (x_mean, y_mean)\n",
    "\n",
    "# mean of data points closest to c2\n",
    "c2_len = len(closest_to_c2)\n",
    "x_sum = 0\n",
    "y_sum = 0\n",
    "\n",
    "for i in closest_to_c2:\n",
    "    x_sum += i[0]\n",
    "    y_sum += i[1]\n",
    "\n",
    "x_mean = x_sum / c2_len\n",
    "y_mean = y_sum / c2_len\n",
    "c2 = (x_mean, y_mean)"
   ]
  },
  {
   "cell_type": "code",
   "execution_count": 247,
   "id": "16d2fd77",
   "metadata": {},
   "outputs": [
    {
     "name": "stdout",
     "output_type": "stream",
     "text": [
      "(201.25, 72.91666666666667)\n",
      "(134.1551724137931, 66.21264367816092)\n"
     ]
    }
   ],
   "source": [
    "# new centroids\n",
    "print(c1)\n",
    "print(c2)"
   ]
  },
  {
   "cell_type": "code",
   "execution_count": 248,
   "id": "d0853b20",
   "metadata": {},
   "outputs": [
    {
     "data": {
      "image/png": "[encoded data removed]",
      "text/plain": [
       "<Figure size 864x576 with 1 Axes>"
      ]
     },
     "metadata": {
      "needs_background": "light"
     },
     "output_type": "display_data"
    }
   ],
   "source": [
    "# plotting the movement of the cluster centers to the means calculated above\n",
    "plt.figure(figsize=(12, 8))\n",
    "plt.scatter(height_c1, weight_c1, s = 10, marker = 'o', color = 'blue')\n",
    "plt.scatter(height_c2, weight_c2, s = 10, marker = 'o', color = 'red')\n",
    "\n",
    "plt.scatter(c1[0], c1[1], s = 100, marker = 'x', color = 'blue')\n",
    "plt.scatter(c2[0], c2[1], s = 100, marker = 'x', color = 'red')\n",
    "plt.xlabel('height')\n",
    "plt.ylabel('weight')\n",
    "plt.show()"
   ]
  },
  {
   "cell_type": "markdown",
   "id": "160e42ed",
   "metadata": {},
   "source": [
    "# 2nd iteration"
   ]
  },
  {
   "cell_type": "code",
   "execution_count": 249,
   "id": "f37e9ffa",
   "metadata": {},
   "outputs": [
    {
     "data": {
      "image/png": "[encoded data removed]",
      "text/plain": [
       "<Figure size 864x576 with 1 Axes>"
      ]
     },
     "metadata": {
      "needs_background": "light"
     },
     "output_type": "display_data"
    }
   ],
   "source": [
    "# calculating the nearest points to the new cluster centers c1 and c2\n",
    "\n",
    "closest_to_c1 = []\n",
    "closest_to_c2 = []\n",
    "\n",
    "for i in data_points:\n",
    "    dist_to_c1 = math.dist(c1, i)\n",
    "    dist_to_c2 = math.dist(c2, i)\n",
    "    \n",
    "    if dist_to_c1 <= dist_to_c2:\n",
    "        closest_to_c1.append(i)\n",
    "    else:\n",
    "        closest_to_c2.append(i)\n",
    "\n",
    "# print(closest_to_c1, len(closest_to_c1))\n",
    "# print(closest_to_c2, len(closest_to_c2))\n",
    "\n",
    "plt.figure(figsize=(12, 8))\n",
    "\n",
    "height_c1 = [x[0] for x in closest_to_c1]\n",
    "weight_c1 = [x[1] for x in closest_to_c1]\n",
    "\n",
    "height_c2 = [x[0] for x in closest_to_c2]\n",
    "weight_c2 = [x[1] for x in closest_to_c2]\n",
    "\n",
    "plt.scatter(height_c1, weight_c1, s = 10, marker = 'o', color = 'blue')\n",
    "plt.scatter(height_c2, weight_c2, s = 10, marker = 'o', color = 'red')\n",
    "\n",
    "plt.scatter(c1[0], c1[1], s = 100, marker = 'x', color = 'blue')\n",
    "plt.scatter(c2[0], c2[1], s = 100, marker = 'x', color = 'red')\n",
    "plt.xlabel('height')\n",
    "plt.ylabel('weight')\n",
    "plt.show()"
   ]
  },
  {
   "cell_type": "code",
   "execution_count": 250,
   "id": "3c64ad2f",
   "metadata": {},
   "outputs": [],
   "source": [
    "# calculating the mean of the new red and blue clusters respectively\n",
    "\n",
    "# mean of new set of data points closest to c1\n",
    "c1_len = len(closest_to_c1)\n",
    "x_sum = 0\n",
    "y_sum = 0\n",
    "\n",
    "for i in closest_to_c1:\n",
    "    x_sum += i[0]\n",
    "    y_sum += i[1]\n",
    "\n",
    "x_mean = x_sum / c1_len\n",
    "y_mean = y_sum / c1_len\n",
    "c1 = (x_mean, y_mean)\n",
    "\n",
    "# mean of new set of data points closest to c2\n",
    "c2_len = len(closest_to_c2)\n",
    "x_sum = 0\n",
    "y_sum = 0\n",
    "\n",
    "for i in closest_to_c2:\n",
    "    x_sum += i[0]\n",
    "    y_sum += i[1]\n",
    "\n",
    "x_mean = x_sum / c2_len\n",
    "y_mean = y_sum / c2_len\n",
    "c2 = (x_mean, y_mean)"
   ]
  },
  {
   "cell_type": "code",
   "execution_count": 251,
   "id": "68bfe385",
   "metadata": {},
   "outputs": [
    {
     "name": "stdout",
     "output_type": "stream",
     "text": [
      "(196.78571428571428, 72.47619047619048)\n",
      "(132.875, 66.08333333333333)\n"
     ]
    }
   ],
   "source": [
    "# new centroids\n",
    "print(c1)\n",
    "print(c2)"
   ]
  },
  {
   "cell_type": "code",
   "execution_count": 252,
   "id": "a84c0049",
   "metadata": {},
   "outputs": [
    {
     "data": {
      "image/png": "[encoded data removed]",
      "text/plain": [
       "<Figure size 864x576 with 1 Axes>"
      ]
     },
     "metadata": {
      "needs_background": "light"
     },
     "output_type": "display_data"
    }
   ],
   "source": [
    "# plotting the movement of the cluster centers to the new means calculated above\n",
    "plt.figure(figsize=(12, 8))\n",
    "plt.scatter(height_c1, weight_c1, s = 10, marker = 'o', color = 'blue')\n",
    "plt.scatter(height_c2, weight_c2, s = 10, marker = 'o', color = 'red')\n",
    "\n",
    "plt.scatter(c1[0], c1[1], s = 100, marker = 'x', color = 'blue')\n",
    "plt.scatter(c2[0], c2[1], s = 100, marker = 'x', color = 'red')\n",
    "plt.xlabel('height')\n",
    "plt.ylabel('weight')\n",
    "plt.show()"
   ]
  },
  {
   "cell_type": "markdown",
   "id": "f2bbe0c4",
   "metadata": {},
   "source": [
    "\n",
    "\n",
    "# 3rd iteration\n"
   ]
  },
  {
   "cell_type": "code",
   "execution_count": 253,
   "id": "8556da9f",
   "metadata": {},
   "outputs": [
    {
     "data": {
      "image/png": "[encoded data removed]",
      "text/plain": [
       "<Figure size 864x576 with 1 Axes>"
      ]
     },
     "metadata": {
      "needs_background": "light"
     },
     "output_type": "display_data"
    }
   ],
   "source": [
    "# calculating the nearest points to the new cluster centers c1 and c2\n",
    "\n",
    "closest_to_c1 = []\n",
    "closest_to_c2 = []\n",
    "\n",
    "for i in data_points:\n",
    "    dist_to_c1 = math.dist(c1, i)\n",
    "    dist_to_c2 = math.dist(c2, i)\n",
    "    \n",
    "    if dist_to_c1 <= dist_to_c2:\n",
    "        closest_to_c1.append(i)\n",
    "    else:\n",
    "        closest_to_c2.append(i)\n",
    "\n",
    "# print(closest_to_c1, len(closest_to_c1))\n",
    "# print(closest_to_c2, len(closest_to_c2))\n",
    "\n",
    "plt.figure(figsize=(12, 8))\n",
    "\n",
    "height_c1 = [x[0] for x in closest_to_c1]\n",
    "weight_c1 = [x[1] for x in closest_to_c1]\n",
    "\n",
    "height_c2 = [x[0] for x in closest_to_c2]\n",
    "weight_c2 = [x[1] for x in closest_to_c2]\n",
    "\n",
    "plt.scatter(height_c1, weight_c1, s = 10, marker = 'o', color = 'blue')\n",
    "plt.scatter(height_c2, weight_c2, s = 10, marker = 'o', color = 'red')\n",
    "\n",
    "plt.scatter(c1[0], c1[1], s = 100, marker = 'x', color = 'blue')\n",
    "plt.scatter(c2[0], c2[1], s = 100, marker = 'x', color = 'red')\n",
    "plt.xlabel('height')\n",
    "plt.ylabel('weight')\n",
    "plt.show()"
   ]
  },
  {
   "cell_type": "code",
   "execution_count": 254,
   "id": "dcaa2766",
   "metadata": {},
   "outputs": [],
   "source": [
    "# calculating the mean of the new red and blue clusters respectively\n",
    "\n",
    "# mean of new set of data points closest to c1\n",
    "c1_len = len(closest_to_c1)\n",
    "x_sum = 0\n",
    "y_sum = 0\n",
    "\n",
    "for i in closest_to_c1:\n",
    "    x_sum += i[0]\n",
    "    y_sum += i[1]\n",
    "\n",
    "x_mean = x_sum / c1_len\n",
    "y_mean = y_sum / c1_len\n",
    "c1 = (x_mean, y_mean)\n",
    "\n",
    "# mean of new set of data points closest to c2\n",
    "c2_len = len(closest_to_c2)\n",
    "x_sum = 0\n",
    "y_sum = 0\n",
    "\n",
    "for i in closest_to_c2:\n",
    "    x_sum += i[0]\n",
    "    y_sum += i[1]\n",
    "\n",
    "x_mean = x_sum / c2_len\n",
    "y_mean = y_sum / c2_len\n",
    "c2 = (x_mean, y_mean)"
   ]
  },
  {
   "cell_type": "code",
   "execution_count": 255,
   "id": "b952bbb9",
   "metadata": {},
   "outputs": [
    {
     "name": "stdout",
     "output_type": "stream",
     "text": [
      "(191.2156862745098, 72.33333333333333)\n",
      "(131.0440251572327, 65.76729559748428)\n"
     ]
    }
   ],
   "source": [
    "# new centroids\n",
    "print(c1)\n",
    "print(c2)"
   ]
  },
  {
   "cell_type": "code",
   "execution_count": 256,
   "id": "ad847547",
   "metadata": {},
   "outputs": [
    {
     "data": {
      "image/png": "[encoded data removed]",
      "text/plain": [
       "<Figure size 864x576 with 1 Axes>"
      ]
     },
     "metadata": {
      "needs_background": "light"
     },
     "output_type": "display_data"
    }
   ],
   "source": [
    "# plotting the movement of the cluster centers to the new means calculated above\n",
    "plt.figure(figsize=(12, 8))\n",
    "plt.scatter(height_c1, weight_c1, s = 10, marker = 'o', color = 'blue')\n",
    "plt.scatter(height_c2, weight_c2, s = 10, marker = 'o', color = 'red')\n",
    "\n",
    "plt.scatter(c1[0], c1[1], s = 100, marker = 'x', color = 'blue')\n",
    "plt.scatter(c2[0], c2[1], s = 100, marker = 'x', color = 'red')\n",
    "plt.xlabel('height')\n",
    "plt.ylabel('weight')\n",
    "plt.show()"
   ]
  },
  {
   "cell_type": "markdown",
   "id": "1407ed64",
   "metadata": {},
   "source": [
    "# 4th iteration"
   ]
  },
  {
   "cell_type": "code",
   "execution_count": 257,
   "id": "8774e212",
   "metadata": {},
   "outputs": [
    {
     "data": {
      "image/png": "[encoded data removed]",
      "text/plain": [
       "<Figure size 864x576 with 1 Axes>"
      ]
     },
     "metadata": {
      "needs_background": "light"
     },
     "output_type": "display_data"
    }
   ],
   "source": [
    "# calculating the nearest points to the new cluster centers c1 and c2\n",
    "\n",
    "closest_to_c1 = []\n",
    "closest_to_c2 = []\n",
    "\n",
    "for i in data_points:\n",
    "    dist_to_c1 = math.dist(c1, i)\n",
    "    dist_to_c2 = math.dist(c2, i)\n",
    "    \n",
    "    if dist_to_c1 <= dist_to_c2:\n",
    "        closest_to_c1.append(i)\n",
    "    else:\n",
    "        closest_to_c2.append(i)\n",
    "\n",
    "# print(closest_to_c1, len(closest_to_c1))\n",
    "# print(closest_to_c2, len(closest_to_c2))\n",
    "\n",
    "plt.figure(figsize=(12, 8))\n",
    "\n",
    "height_c1 = [x[0] for x in closest_to_c1]\n",
    "weight_c1 = [x[1] for x in closest_to_c1]\n",
    "\n",
    "height_c2 = [x[0] for x in closest_to_c2]\n",
    "weight_c2 = [x[1] for x in closest_to_c2]\n",
    "\n",
    "plt.scatter(height_c1, weight_c1, s = 10, marker = 'o', color = 'blue')\n",
    "plt.scatter(height_c2, weight_c2, s = 10, marker = 'o', color = 'red')\n",
    "\n",
    "plt.scatter(c1[0], c1[1], s = 100, marker = 'x', color = 'blue')\n",
    "plt.scatter(c2[0], c2[1], s = 100, marker = 'x', color = 'red')\n",
    "plt.xlabel('height')\n",
    "plt.ylabel('weight')\n",
    "plt.show()"
   ]
  },
  {
   "cell_type": "code",
   "execution_count": 258,
   "id": "6fea1144",
   "metadata": {},
   "outputs": [],
   "source": [
    "# calculating the mean of the new red and blue clusters respectively\n",
    "\n",
    "# mean of new set of data points closest to c1\n",
    "c1_len = len(closest_to_c1)\n",
    "x_sum = 0\n",
    "y_sum = 0\n",
    "\n",
    "for i in closest_to_c1:\n",
    "    x_sum += i[0]\n",
    "    y_sum += i[1]\n",
    "\n",
    "x_mean = x_sum / c1_len\n",
    "y_mean = y_sum / c1_len\n",
    "c1 = (x_mean, y_mean)\n",
    "\n",
    "# mean of new set of data points closest to c2\n",
    "c2_len = len(closest_to_c2)\n",
    "x_sum = 0\n",
    "y_sum = 0\n",
    "\n",
    "for i in closest_to_c2:\n",
    "    x_sum += i[0]\n",
    "    y_sum += i[1]\n",
    "\n",
    "x_mean = x_sum / c2_len\n",
    "y_mean = y_sum / c2_len\n",
    "c2 = (x_mean, y_mean)"
   ]
  },
  {
   "cell_type": "code",
   "execution_count": 259,
   "id": "94e3f387",
   "metadata": {},
   "outputs": [
    {
     "name": "stdout",
     "output_type": "stream",
     "text": [
      "(190.16981132075472, 72.13207547169812)\n",
      "(130.63057324840764, 65.7515923566879)\n"
     ]
    }
   ],
   "source": [
    "# new centroids\n",
    "print(c1)\n",
    "print(c2)"
   ]
  },
  {
   "cell_type": "code",
   "execution_count": 260,
   "id": "d1b0c43a",
   "metadata": {},
   "outputs": [
    {
     "data": {
      "image/png": "[encoded data removed]",
      "text/plain": [
       "<Figure size 864x576 with 1 Axes>"
      ]
     },
     "metadata": {
      "needs_background": "light"
     },
     "output_type": "display_data"
    }
   ],
   "source": [
    "# plotting the movement of the cluster centers to the new means calculated above\n",
    "plt.figure(figsize=(12, 8))\n",
    "plt.scatter(height_c1, weight_c1, s = 10, marker = 'o', color = 'blue')\n",
    "plt.scatter(height_c2, weight_c2, s = 10, marker = 'o', color = 'red')\n",
    "\n",
    "plt.scatter(c1[0], c1[1], s = 100, marker = 'x', color = 'blue')\n",
    "plt.scatter(c2[0], c2[1], s = 100, marker = 'x', color = 'red')\n",
    "plt.xlabel('height')\n",
    "plt.ylabel('weight')\n",
    "plt.show()"
   ]
  },
  {
   "cell_type": "markdown",
   "id": "b95e95e6",
   "metadata": {},
   "source": [
    "# 5th iteration"
   ]
  },
  {
   "cell_type": "code",
   "execution_count": 261,
   "id": "28ded3a4",
   "metadata": {},
   "outputs": [
    {
     "data": {
      "image/png": "[encoded data removed]",
      "text/plain": [
       "<Figure size 864x576 with 1 Axes>"
      ]
     },
     "metadata": {
      "needs_background": "light"
     },
     "output_type": "display_data"
    }
   ],
   "source": [
    "# calculating the nearest points to the new cluster centers c1 and c2\n",
    "\n",
    "closest_to_c1 = []\n",
    "closest_to_c2 = []\n",
    "\n",
    "for i in data_points:\n",
    "    dist_to_c1 = math.dist(c1, i)\n",
    "    dist_to_c2 = math.dist(c2, i)\n",
    "    \n",
    "    if dist_to_c1 <= dist_to_c2:\n",
    "        closest_to_c1.append(i)\n",
    "    else:\n",
    "        closest_to_c2.append(i)\n",
    "\n",
    "# print(closest_to_c1, len(closest_to_c1))\n",
    "# print(closest_to_c2, len(closest_to_c2))\n",
    "\n",
    "plt.figure(figsize=(12, 8))\n",
    "\n",
    "height_c1 = [x[0] for x in closest_to_c1]\n",
    "weight_c1 = [x[1] for x in closest_to_c1]\n",
    "\n",
    "height_c2 = [x[0] for x in closest_to_c2]\n",
    "weight_c2 = [x[1] for x in closest_to_c2]\n",
    "\n",
    "plt.scatter(height_c1, weight_c1, s = 10, marker = 'o', color = 'blue')\n",
    "plt.scatter(height_c2, weight_c2, s = 10, marker = 'o', color = 'red')\n",
    "\n",
    "plt.scatter(c1[0], c1[1], s = 100, marker = 'x', color = 'blue')\n",
    "plt.scatter(c2[0], c2[1], s = 100, marker = 'x', color = 'red')\n",
    "plt.xlabel('height')\n",
    "plt.ylabel('weight')\n",
    "plt.show()"
   ]
  },
  {
   "cell_type": "code",
   "execution_count": 262,
   "id": "fb9948fb",
   "metadata": {},
   "outputs": [],
   "source": [
    "# calculating the mean of the new red and blue clusters respectively\n",
    "\n",
    "# mean of new set of data points closest to c1\n",
    "c1_len = len(closest_to_c1)\n",
    "x_sum = 0\n",
    "y_sum = 0\n",
    "\n",
    "for i in closest_to_c1:\n",
    "    x_sum += i[0]\n",
    "    y_sum += i[1]\n",
    "\n",
    "x_mean = x_sum / c1_len\n",
    "y_mean = y_sum / c1_len\n",
    "c1 = (x_mean, y_mean)\n",
    "\n",
    "# mean of new set of data points closest to c2\n",
    "c2_len = len(closest_to_c2)\n",
    "x_sum = 0\n",
    "y_sum = 0\n",
    "\n",
    "for i in closest_to_c2:\n",
    "    x_sum += i[0]\n",
    "    y_sum += i[1]\n",
    "\n",
    "x_mean = x_sum / c2_len\n",
    "y_mean = y_sum / c2_len\n",
    "c2 = (x_mean, y_mean)"
   ]
  },
  {
   "cell_type": "code",
   "execution_count": 263,
   "id": "8ecd13c4",
   "metadata": {},
   "outputs": [
    {
     "name": "stdout",
     "output_type": "stream",
     "text": [
      "(188.55357142857142, 72.21428571428571)\n",
      "(130.05844155844156, 65.59740259740259)\n"
     ]
    }
   ],
   "source": [
    "# new centroids\n",
    "print(c1)\n",
    "print(c2)"
   ]
  },
  {
   "cell_type": "code",
   "execution_count": 264,
   "id": "4382a308",
   "metadata": {},
   "outputs": [
    {
     "data": {
      "image/png": "[encoded data removed]",
      "text/plain": [
       "<Figure size 864x576 with 1 Axes>"
      ]
     },
     "metadata": {
      "needs_background": "light"
     },
     "output_type": "display_data"
    }
   ],
   "source": [
    "# plotting the movement of the cluster centers to the new means calculated above\n",
    "plt.figure(figsize=(12, 8))\n",
    "plt.scatter(height_c1, weight_c1, s = 10, marker = 'o', color = 'blue')\n",
    "plt.scatter(height_c2, weight_c2, s = 10, marker = 'o', color = 'red')\n",
    "\n",
    "plt.scatter(c1[0], c1[1], s = 100, marker = 'x', color = 'blue')\n",
    "plt.scatter(c2[0], c2[1], s = 100, marker = 'x', color = 'red')\n",
    "plt.xlabel('height')\n",
    "plt.ylabel('weight')\n",
    "plt.show()"
   ]
  },
  {
   "cell_type": "markdown",
   "id": "06c53fe9",
   "metadata": {},
   "source": [
    "# 6th iteration"
   ]
  },
  {
   "cell_type": "code",
   "execution_count": 265,
   "id": "86688e9b",
   "metadata": {},
   "outputs": [
    {
     "data": {
      "image/png": "[encoded data removed]",
      "text/plain": [
       "<Figure size 864x576 with 1 Axes>"
      ]
     },
     "metadata": {
      "needs_background": "light"
     },
     "output_type": "display_data"
    }
   ],
   "source": [
    "# calculating the nearest points to the new cluster centers c1 and c2\n",
    "\n",
    "closest_to_c1 = []\n",
    "closest_to_c2 = []\n",
    "\n",
    "for i in data_points:\n",
    "    dist_to_c1 = math.dist(c1, i)\n",
    "    dist_to_c2 = math.dist(c2, i)\n",
    "    \n",
    "    if dist_to_c1 <= dist_to_c2:\n",
    "        closest_to_c1.append(i)\n",
    "    else:\n",
    "        closest_to_c2.append(i)\n",
    "\n",
    "# print(closest_to_c1, len(closest_to_c1))\n",
    "# print(closest_to_c2, len(closest_to_c2))\n",
    "\n",
    "plt.figure(figsize=(12, 8))\n",
    "\n",
    "height_c1 = [x[0] for x in closest_to_c1]\n",
    "weight_c1 = [x[1] for x in closest_to_c1]\n",
    "\n",
    "height_c2 = [x[0] for x in closest_to_c2]\n",
    "weight_c2 = [x[1] for x in closest_to_c2]\n",
    "\n",
    "plt.scatter(height_c1, weight_c1, s = 10, marker = 'o', color = 'blue')\n",
    "plt.scatter(height_c2, weight_c2, s = 10, marker = 'o', color = 'red')\n",
    "\n",
    "plt.scatter(c1[0], c1[1], s = 100, marker = 'x', color = 'blue')\n",
    "plt.scatter(c2[0], c2[1], s = 100, marker = 'x', color = 'red')\n",
    "plt.xlabel('height')\n",
    "plt.ylabel('weight')\n",
    "plt.show()"
   ]
  },
  {
   "cell_type": "code",
   "execution_count": 266,
   "id": "92279af1",
   "metadata": {},
   "outputs": [],
   "source": [
    "# calculating the mean of the new red and blue clusters respectively\n",
    "\n",
    "# mean of new set of data points closest to c1\n",
    "c1_len = len(closest_to_c1)\n",
    "x_sum = 0\n",
    "y_sum = 0\n",
    "\n",
    "for i in closest_to_c1:\n",
    "    x_sum += i[0]\n",
    "    y_sum += i[1]\n",
    "\n",
    "x_mean = x_sum / c1_len\n",
    "y_mean = y_sum / c1_len\n",
    "c1 = (x_mean, y_mean)\n",
    "\n",
    "# mean of new set of data points closest to c2\n",
    "c2_len = len(closest_to_c2)\n",
    "x_sum = 0\n",
    "y_sum = 0\n",
    "\n",
    "for i in closest_to_c2:\n",
    "    x_sum += i[0]\n",
    "    y_sum += i[1]\n",
    "\n",
    "x_mean = x_sum / c2_len\n",
    "y_mean = y_sum / c2_len\n",
    "c2 = (x_mean, y_mean)"
   ]
  },
  {
   "cell_type": "code",
   "execution_count": 267,
   "id": "b58e0d45",
   "metadata": {},
   "outputs": [
    {
     "name": "stdout",
     "output_type": "stream",
     "text": [
      "(186.65, 72.13333333333334)\n",
      "(129.26, 65.45333333333333)\n"
     ]
    }
   ],
   "source": [
    "# new centroids\n",
    "print(c1)\n",
    "print(c2)"
   ]
  },
  {
   "cell_type": "code",
   "execution_count": 268,
   "id": "38d6fe31",
   "metadata": {},
   "outputs": [
    {
     "data": {
      "image/png": "[encoded data removed]",
      "text/plain": [
       "<Figure size 864x576 with 1 Axes>"
      ]
     },
     "metadata": {
      "needs_background": "light"
     },
     "output_type": "display_data"
    }
   ],
   "source": [
    "# plotting the movement of the cluster centers to the new means calculated above\n",
    "plt.figure(figsize=(12, 8))\n",
    "plt.scatter(height_c1, weight_c1, s = 10, marker = 'o', color = 'blue')\n",
    "plt.scatter(height_c2, weight_c2, s = 10, marker = 'o', color = 'red')\n",
    "\n",
    "plt.scatter(c1[0], c1[1], s = 100, marker = 'x', color = 'blue')\n",
    "plt.scatter(c2[0], c2[1], s = 100, marker = 'x', color = 'red')\n",
    "plt.xlabel('height')\n",
    "plt.ylabel('weight')\n",
    "plt.show()"
   ]
  },
  {
   "cell_type": "markdown",
   "id": "993480fd",
   "metadata": {},
   "source": [
    "# 7th iteration"
   ]
  },
  {
   "cell_type": "code",
   "execution_count": 269,
   "id": "c6359e9c",
   "metadata": {},
   "outputs": [
    {
     "data": {
      "image/png": "[encoded data removed]",
      "text/plain": [
       "<Figure size 864x576 with 1 Axes>"
      ]
     },
     "metadata": {
      "needs_background": "light"
     },
     "output_type": "display_data"
    }
   ],
   "source": [
    "# calculating the nearest points to the new cluster centers c1 and c2\n",
    "\n",
    "closest_to_c1 = []\n",
    "closest_to_c2 = []\n",
    "\n",
    "for i in data_points:\n",
    "    dist_to_c1 = math.dist(c1, i)\n",
    "    dist_to_c2 = math.dist(c2, i)\n",
    "    \n",
    "    if dist_to_c1 <= dist_to_c2:\n",
    "        closest_to_c1.append(i)\n",
    "    else:\n",
    "        closest_to_c2.append(i)\n",
    "\n",
    "# print(closest_to_c1, len(closest_to_c1))\n",
    "# print(closest_to_c2, len(closest_to_c2))\n",
    "\n",
    "plt.figure(figsize=(12, 8))\n",
    "\n",
    "height_c1 = [x[0] for x in closest_to_c1]\n",
    "weight_c1 = [x[1] for x in closest_to_c1]\n",
    "\n",
    "height_c2 = [x[0] for x in closest_to_c2]\n",
    "weight_c2 = [x[1] for x in closest_to_c2]\n",
    "\n",
    "plt.scatter(height_c1, weight_c1, s = 10, marker = 'o', color = 'blue')\n",
    "plt.scatter(height_c2, weight_c2, s = 10, marker = 'o', color = 'red')\n",
    "\n",
    "plt.scatter(c1[0], c1[1], s = 100, marker = 'x', color = 'blue')\n",
    "plt.scatter(c2[0], c2[1], s = 100, marker = 'x', color = 'red')\n",
    "plt.xlabel('height')\n",
    "plt.ylabel('weight')\n",
    "plt.show()"
   ]
  },
  {
   "cell_type": "code",
   "execution_count": 270,
   "id": "0f065877",
   "metadata": {},
   "outputs": [],
   "source": [
    "# calculating the mean of the new red and blue clusters respectively\n",
    "\n",
    "# mean of new set of data points closest to c1\n",
    "c1_len = len(closest_to_c1)\n",
    "x_sum = 0\n",
    "y_sum = 0\n",
    "\n",
    "for i in closest_to_c1:\n",
    "    x_sum += i[0]\n",
    "    y_sum += i[1]\n",
    "\n",
    "x_mean = x_sum / c1_len\n",
    "y_mean = y_sum / c1_len\n",
    "c1 = (x_mean, y_mean)\n",
    "\n",
    "# mean of new set of data points closest to c2\n",
    "c2_len = len(closest_to_c2)\n",
    "x_sum = 0\n",
    "y_sum = 0\n",
    "\n",
    "for i in closest_to_c2:\n",
    "    x_sum += i[0]\n",
    "    y_sum += i[1]\n",
    "\n",
    "x_mean = x_sum / c2_len\n",
    "y_mean = y_sum / c2_len\n",
    "c2 = (x_mean, y_mean)"
   ]
  },
  {
   "cell_type": "code",
   "execution_count": 271,
   "id": "567c59cf",
   "metadata": {},
   "outputs": [
    {
     "name": "stdout",
     "output_type": "stream",
     "text": [
      "(186.65, 72.13333333333334)\n",
      "(129.26, 65.45333333333333)\n"
     ]
    }
   ],
   "source": [
    "# new centroids\n",
    "print(c1)\n",
    "print(c2)"
   ]
  },
  {
   "cell_type": "code",
   "execution_count": 272,
   "id": "62b36036",
   "metadata": {},
   "outputs": [
    {
     "data": {
      "image/png": "[encoded data removed]",
      "text/plain": [
       "<Figure size 864x576 with 1 Axes>"
      ]
     },
     "metadata": {
      "needs_background": "light"
     },
     "output_type": "display_data"
    }
   ],
   "source": [
    "# plotting the movement of the cluster centers to the new means calculated above\n",
    "plt.figure(figsize=(12, 8))\n",
    "plt.scatter(height_c1, weight_c1, s = 10, marker = 'o', color = 'blue')\n",
    "plt.scatter(height_c2, weight_c2, s = 10, marker = 'o', color = 'red')\n",
    "\n",
    "plt.scatter(c1[0], c1[1], s = 100, marker = 'x', color = 'blue')\n",
    "plt.scatter(c2[0], c2[1], s = 100, marker = 'x', color = 'red')\n",
    "plt.xlabel('height')\n",
    "plt.ylabel('weight')\n",
    "plt.show()"
   ]
  },
  {
   "cell_type": "markdown",
   "id": "c440f56c",
   "metadata": {},
   "source": [
    "# 8th iteration"
   ]
  },
  {
   "cell_type": "code",
   "execution_count": 273,
   "id": "a4e03a3a",
   "metadata": {},
   "outputs": [
    {
     "data": {
      "image/png": "[encoded data removed]",
      "text/plain": [
       "<Figure size 864x576 with 1 Axes>"
      ]
     },
     "metadata": {
      "needs_background": "light"
     },
     "output_type": "display_data"
    }
   ],
   "source": [
    "# calculating the nearest points to the new cluster centers c1 and c2\n",
    "\n",
    "closest_to_c1 = []\n",
    "closest_to_c2 = []\n",
    "\n",
    "for i in data_points:\n",
    "    dist_to_c1 = math.dist(c1, i)\n",
    "    dist_to_c2 = math.dist(c2, i)\n",
    "    \n",
    "    if dist_to_c1 <= dist_to_c2:\n",
    "        closest_to_c1.append(i)\n",
    "    else:\n",
    "        closest_to_c2.append(i)\n",
    "\n",
    "# print(closest_to_c1, len(closest_to_c1))\n",
    "# print(closest_to_c2, len(closest_to_c2))\n",
    "\n",
    "plt.figure(figsize=(12, 8))\n",
    "\n",
    "height_c1 = [x[0] for x in closest_to_c1]\n",
    "weight_c1 = [x[1] for x in closest_to_c1]\n",
    "\n",
    "height_c2 = [x[0] for x in closest_to_c2]\n",
    "weight_c2 = [x[1] for x in closest_to_c2]\n",
    "\n",
    "plt.scatter(height_c1, weight_c1, s = 10, marker = 'o', color = 'blue')\n",
    "plt.scatter(height_c2, weight_c2, s = 10, marker = 'o', color = 'red')\n",
    "\n",
    "plt.scatter(c1[0], c1[1], s = 100, marker = 'x', color = 'blue')\n",
    "plt.scatter(c2[0], c2[1], s = 100, marker = 'x', color = 'red')\n",
    "plt.xlabel('height')\n",
    "plt.ylabel('weight')\n",
    "plt.show()"
   ]
  },
  {
   "cell_type": "code",
   "execution_count": 274,
   "id": "2b502bb0",
   "metadata": {},
   "outputs": [],
   "source": [
    "# calculating the mean of the new red and blue clusters respectively\n",
    "\n",
    "# mean of new set of data points closest to c1\n",
    "c1_len = len(closest_to_c1)\n",
    "x_sum = 0\n",
    "y_sum = 0\n",
    "\n",
    "for i in closest_to_c1:\n",
    "    x_sum += i[0]\n",
    "    y_sum += i[1]\n",
    "\n",
    "x_mean = x_sum / c1_len\n",
    "y_mean = y_sum / c1_len\n",
    "c1 = (x_mean, y_mean)\n",
    "\n",
    "# mean of new set of data points closest to c2\n",
    "c2_len = len(closest_to_c2)\n",
    "x_sum = 0\n",
    "y_sum = 0\n",
    "\n",
    "for i in closest_to_c2:\n",
    "    x_sum += i[0]\n",
    "    y_sum += i[1]\n",
    "\n",
    "x_mean = x_sum / c2_len\n",
    "y_mean = y_sum / c2_len\n",
    "c2 = (x_mean, y_mean)"
   ]
  },
  {
   "cell_type": "code",
   "execution_count": 275,
   "id": "7a6f08e0",
   "metadata": {},
   "outputs": [
    {
     "name": "stdout",
     "output_type": "stream",
     "text": [
      "(186.65, 72.13333333333334)\n",
      "(129.26, 65.45333333333333)\n"
     ]
    }
   ],
   "source": [
    "# new centroids\n",
    "print(c1)\n",
    "print(c2)"
   ]
  },
  {
   "cell_type": "code",
   "execution_count": 276,
   "id": "64c9959d",
   "metadata": {},
   "outputs": [
    {
     "data": {
      "image/png": "[encoded data removed]",
      "text/plain": [
       "<Figure size 864x576 with 1 Axes>"
      ]
     },
     "metadata": {
      "needs_background": "light"
     },
     "output_type": "display_data"
    }
   ],
   "source": [
    "# plotting the movement of the cluster centers to the new means calculated above\n",
    "plt.figure(figsize=(12, 8))\n",
    "plt.scatter(height_c1, weight_c1, s = 10, marker = 'o', color = 'blue')\n",
    "plt.scatter(height_c2, weight_c2, s = 10, marker = 'o', color = 'red')\n",
    "\n",
    "plt.scatter(c1[0], c1[1], s = 100, marker = 'x', color = 'blue')\n",
    "plt.scatter(c2[0], c2[1], s = 100, marker = 'x', color = 'red')\n",
    "plt.xlabel('height')\n",
    "plt.ylabel('weight')\n",
    "plt.show()"
   ]
  },
  {
   "cell_type": "code",
   "execution_count": 280,
   "id": "11d7ae11",
   "metadata": {},
   "outputs": [],
   "source": [
    "df1 = pd.read_csv('heightWeight_1.csv', header=None)"
   ]
  },
  {
   "cell_type": "code",
   "execution_count": 281,
   "id": "995a24a5",
   "metadata": {},
   "outputs": [],
   "source": [
    "df2 = pd.read_csv('heightWeight_2.csv', header=None)"
   ]
  },
  {
   "cell_type": "code",
   "execution_count": 283,
   "id": "3dacafb2",
   "metadata": {},
   "outputs": [
    {
     "data": {
      "image/png": "[encoded data removed]",
      "text/plain": [
       "<Figure size 864x576 with 1 Axes>"
      ]
     },
     "metadata": {
      "needs_background": "light"
     },
     "output_type": "display_data"
    }
   ],
   "source": [
    "# plotting the two separated datasets according to the given file\n",
    "\n",
    "plt.figure(figsize=(12, 8))\n",
    "plt.scatter(df1[1], df1[0], s = 10, marker = 'o', color = 'blue')\n",
    "plt.scatter(df2[1], df2[0], s = 10, marker = 'o', color = 'red')\n",
    "\n",
    "plt.xlabel('height')\n",
    "plt.ylabel('weight')\n",
    "plt.show()"
   ]
  },
  {
   "cell_type": "code",
   "execution_count": null,
   "id": "bbd3f5f2",
   "metadata": {},
   "outputs": [],
   "source": []
  }
 ],
 "metadata": {
  "kernelspec": {
   "display_name": "Python 3 (ipykernel)",
   "language": "python",
   "name": "python3"
  },
  "language_info": {
   "codemirror_mode": {
    "name": "ipython",
    "version": 3
   },
   "file_extension": ".py",
   "mimetype": "text/x-python",
   "name": "python",
   "nbconvert_exporter": "python",
   "pygments_lexer": "ipython3",
   "version": "3.9.7"
  }
 },
 "nbformat": 4,
 "nbformat_minor": 5
}
